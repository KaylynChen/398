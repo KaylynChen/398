{
 "cells": [
  {
   "cell_type": "code",
   "execution_count": 1,
   "id": "7077fdea-df15-48a3-a3ec-3a66638a1763",
   "metadata": {},
   "outputs": [
    {
     "name": "stderr",
     "output_type": "stream",
     "text": [
      "── \u001b[1mAttaching core tidyverse packages\u001b[22m ──────────────────────── tidyverse 2.0.0 ──\n",
      "\u001b[32m✔\u001b[39m \u001b[34mdplyr    \u001b[39m 1.1.4     \u001b[32m✔\u001b[39m \u001b[34mreadr    \u001b[39m 2.1.5\n",
      "\u001b[32m✔\u001b[39m \u001b[34mforcats  \u001b[39m 1.0.0     \u001b[32m✔\u001b[39m \u001b[34mstringr  \u001b[39m 1.5.1\n",
      "\u001b[32m✔\u001b[39m \u001b[34mggplot2  \u001b[39m 3.5.1     \u001b[32m✔\u001b[39m \u001b[34mtibble   \u001b[39m 3.2.1\n",
      "\u001b[32m✔\u001b[39m \u001b[34mlubridate\u001b[39m 1.9.3     \u001b[32m✔\u001b[39m \u001b[34mtidyr    \u001b[39m 1.3.1\n",
      "\u001b[32m✔\u001b[39m \u001b[34mpurrr    \u001b[39m 1.0.2     \n",
      "── \u001b[1mConflicts\u001b[22m ────────────────────────────────────────── tidyverse_conflicts() ──\n",
      "\u001b[31m✖\u001b[39m \u001b[34mdplyr\u001b[39m::\u001b[32mfilter()\u001b[39m masks \u001b[34mstats\u001b[39m::filter()\n",
      "\u001b[31m✖\u001b[39m \u001b[34mdplyr\u001b[39m::\u001b[32mlag()\u001b[39m    masks \u001b[34mstats\u001b[39m::lag()\n",
      "\u001b[36mℹ\u001b[39m Use the conflicted package (\u001b[3m\u001b[34m<http://conflicted.r-lib.org/>\u001b[39m\u001b[23m) to force all conflicts to become errors\n"
     ]
    }
   ],
   "source": [
    "library(tidyverse)\n",
    "library(haven)\n",
    "library(ivreg)"
   ]
  },
  {
   "cell_type": "code",
   "execution_count": 2,
   "id": "6616ea20-3dad-4cb4-aee2-badd51105529",
   "metadata": {},
   "outputs": [],
   "source": [
    "census_data <- read_dta('cen_ind_2021_pumf_v2 2.dta')"
   ]
  },
  {
   "cell_type": "code",
   "execution_count": 3,
   "id": "c4b89d86-7b5e-4831-89f9-408ab65d7acb",
   "metadata": {},
   "outputs": [],
   "source": [
    "cleaned_data <- census_data |> select(agegrp, yrim, lfact, marsth, hdgree, jobperm,CFInc_AT, PR1, NOC21, Gender, immstat) |> \n",
    "    filter(agegrp != 88) |> \n",
    "    filter(yrim != 8888 & yrim != 9999) |>\n",
    "    filter(lfact != 88 & lfact != 99) |>\n",
    "    filter(marsth != 8) |>\n",
    "    filter(hdgree != 88 & hdgree != 99) |>\n",
    "    filter(jobperm != 8 & jobperm != 9) |>\n",
    "    filter(CFInc_AT != 88) |>\n",
    "    filter(PR1 != 88 & PR1 != 99) |>\n",
    "    filter(NOC21 != 88 & NOC21 != 99)\n"
   ]
  },
  {
   "cell_type": "code",
   "execution_count": 7,
   "id": "b6dc3db2-25b5-4eaa-a84f-e7bd5da06207",
   "metadata": {
    "scrolled": true
   },
   "outputs": [
    {
     "data": {
      "text/html": [
       "<table class=\"dataframe\">\n",
       "<caption>A matrix: 44 × 1 of type dbl</caption>\n",
       "<tbody>\n",
       "\t<tr><th scope=row>agegrp_mean</th><td>  12.5840709</td></tr>\n",
       "\t<tr><th scope=row>agegrp_sd</th><td>   2.7017528</td></tr>\n",
       "\t<tr><th scope=row>agegrp_min</th><td>   6.0000000</td></tr>\n",
       "\t<tr><th scope=row>agegrp_max</th><td>  21.0000000</td></tr>\n",
       "\t<tr><th scope=row>yrim_mean</th><td>1413.1256184</td></tr>\n",
       "\t<tr><th scope=row>yrim_sd</th><td> 914.9249402</td></tr>\n",
       "\t<tr><th scope=row>yrim_min</th><td>   1.0000000</td></tr>\n",
       "\t<tr><th scope=row>yrim_max</th><td>2020.0000000</td></tr>\n",
       "\t<tr><th scope=row>lfact_mean</th><td>   2.2227089</td></tr>\n",
       "\t<tr><th scope=row>lfact_sd</th><td>   3.0558378</td></tr>\n",
       "\t<tr><th scope=row>lfact_min</th><td>   1.0000000</td></tr>\n",
       "\t<tr><th scope=row>lfact_max</th><td>  12.0000000</td></tr>\n",
       "\t<tr><th scope=row>marsth_mean</th><td>   2.1439941</td></tr>\n",
       "\t<tr><th scope=row>marsth_sd</th><td>   1.0240488</td></tr>\n",
       "\t<tr><th scope=row>marsth_min</th><td>   1.0000000</td></tr>\n",
       "\t<tr><th scope=row>marsth_max</th><td>   6.0000000</td></tr>\n",
       "\t<tr><th scope=row>hdgree_mean</th><td>   6.5763394</td></tr>\n",
       "\t<tr><th scope=row>hdgree_sd</th><td>   3.7389250</td></tr>\n",
       "\t<tr><th scope=row>hdgree_min</th><td>   1.0000000</td></tr>\n",
       "\t<tr><th scope=row>hdgree_max</th><td>  13.0000000</td></tr>\n",
       "\t<tr><th scope=row>jobperm_mean</th><td>   1.9576960</td></tr>\n",
       "\t<tr><th scope=row>jobperm_sd</th><td>   0.5616607</td></tr>\n",
       "\t<tr><th scope=row>jobperm_min</th><td>   1.0000000</td></tr>\n",
       "\t<tr><th scope=row>jobperm_max</th><td>   3.0000000</td></tr>\n",
       "\t<tr><th scope=row>CFInc_AT_mean</th><td>  21.7535821</td></tr>\n",
       "\t<tr><th scope=row>CFInc_AT_sd</th><td>   6.7052471</td></tr>\n",
       "\t<tr><th scope=row>CFInc_AT_min</th><td>   1.0000000</td></tr>\n",
       "\t<tr><th scope=row>CFInc_AT_max</th><td>  32.0000000</td></tr>\n",
       "\t<tr><th scope=row>PR1_mean</th><td>  39.2202351</td></tr>\n",
       "\t<tr><th scope=row>PR1_sd</th><td>  11.4857029</td></tr>\n",
       "\t<tr><th scope=row>PR1_min</th><td>  10.0000000</td></tr>\n",
       "\t<tr><th scope=row>PR1_max</th><td>  70.0000000</td></tr>\n",
       "\t<tr><th scope=row>NOC21_mean</th><td>  13.0742514</td></tr>\n",
       "\t<tr><th scope=row>NOC21_sd</th><td>   7.7657667</td></tr>\n",
       "\t<tr><th scope=row>NOC21_min</th><td>   1.0000000</td></tr>\n",
       "\t<tr><th scope=row>NOC21_max</th><td>  26.0000000</td></tr>\n",
       "\t<tr><th scope=row>Gender_mean</th><td>   1.5166205</td></tr>\n",
       "\t<tr><th scope=row>Gender_sd</th><td>   0.4997256</td></tr>\n",
       "\t<tr><th scope=row>Gender_min</th><td>   1.0000000</td></tr>\n",
       "\t<tr><th scope=row>Gender_max</th><td>   2.0000000</td></tr>\n",
       "\t<tr><th scope=row>immstat_mean</th><td>   2.2186011</td></tr>\n",
       "\t<tr><th scope=row>immstat_sd</th><td>   4.3303634</td></tr>\n",
       "\t<tr><th scope=row>immstat_min</th><td>   2.0000000</td></tr>\n",
       "\t<tr><th scope=row>immstat_max</th><td>  88.0000000</td></tr>\n",
       "</tbody>\n",
       "</table>\n"
      ],
      "text/latex": [
       "A matrix: 44 × 1 of type dbl\n",
       "\\begin{tabular}{r|l}\n",
       "\tagegrp\\_mean &   12.5840709\\\\\n",
       "\tagegrp\\_sd &    2.7017528\\\\\n",
       "\tagegrp\\_min &    6.0000000\\\\\n",
       "\tagegrp\\_max &   21.0000000\\\\\n",
       "\tyrim\\_mean & 1413.1256184\\\\\n",
       "\tyrim\\_sd &  914.9249402\\\\\n",
       "\tyrim\\_min &    1.0000000\\\\\n",
       "\tyrim\\_max & 2020.0000000\\\\\n",
       "\tlfact\\_mean &    2.2227089\\\\\n",
       "\tlfact\\_sd &    3.0558378\\\\\n",
       "\tlfact\\_min &    1.0000000\\\\\n",
       "\tlfact\\_max &   12.0000000\\\\\n",
       "\tmarsth\\_mean &    2.1439941\\\\\n",
       "\tmarsth\\_sd &    1.0240488\\\\\n",
       "\tmarsth\\_min &    1.0000000\\\\\n",
       "\tmarsth\\_max &    6.0000000\\\\\n",
       "\thdgree\\_mean &    6.5763394\\\\\n",
       "\thdgree\\_sd &    3.7389250\\\\\n",
       "\thdgree\\_min &    1.0000000\\\\\n",
       "\thdgree\\_max &   13.0000000\\\\\n",
       "\tjobperm\\_mean &    1.9576960\\\\\n",
       "\tjobperm\\_sd &    0.5616607\\\\\n",
       "\tjobperm\\_min &    1.0000000\\\\\n",
       "\tjobperm\\_max &    3.0000000\\\\\n",
       "\tCFInc\\_AT\\_mean &   21.7535821\\\\\n",
       "\tCFInc\\_AT\\_sd &    6.7052471\\\\\n",
       "\tCFInc\\_AT\\_min &    1.0000000\\\\\n",
       "\tCFInc\\_AT\\_max &   32.0000000\\\\\n",
       "\tPR1\\_mean &   39.2202351\\\\\n",
       "\tPR1\\_sd &   11.4857029\\\\\n",
       "\tPR1\\_min &   10.0000000\\\\\n",
       "\tPR1\\_max &   70.0000000\\\\\n",
       "\tNOC21\\_mean &   13.0742514\\\\\n",
       "\tNOC21\\_sd &    7.7657667\\\\\n",
       "\tNOC21\\_min &    1.0000000\\\\\n",
       "\tNOC21\\_max &   26.0000000\\\\\n",
       "\tGender\\_mean &    1.5166205\\\\\n",
       "\tGender\\_sd &    0.4997256\\\\\n",
       "\tGender\\_min &    1.0000000\\\\\n",
       "\tGender\\_max &    2.0000000\\\\\n",
       "\timmstat\\_mean &    2.2186011\\\\\n",
       "\timmstat\\_sd &    4.3303634\\\\\n",
       "\timmstat\\_min &    2.0000000\\\\\n",
       "\timmstat\\_max &   88.0000000\\\\\n",
       "\\end{tabular}\n"
      ],
      "text/markdown": [
       "\n",
       "A matrix: 44 × 1 of type dbl\n",
       "\n",
       "| agegrp_mean |   12.5840709 |\n",
       "| agegrp_sd |    2.7017528 |\n",
       "| agegrp_min |    6.0000000 |\n",
       "| agegrp_max |   21.0000000 |\n",
       "| yrim_mean | 1413.1256184 |\n",
       "| yrim_sd |  914.9249402 |\n",
       "| yrim_min |    1.0000000 |\n",
       "| yrim_max | 2020.0000000 |\n",
       "| lfact_mean |    2.2227089 |\n",
       "| lfact_sd |    3.0558378 |\n",
       "| lfact_min |    1.0000000 |\n",
       "| lfact_max |   12.0000000 |\n",
       "| marsth_mean |    2.1439941 |\n",
       "| marsth_sd |    1.0240488 |\n",
       "| marsth_min |    1.0000000 |\n",
       "| marsth_max |    6.0000000 |\n",
       "| hdgree_mean |    6.5763394 |\n",
       "| hdgree_sd |    3.7389250 |\n",
       "| hdgree_min |    1.0000000 |\n",
       "| hdgree_max |   13.0000000 |\n",
       "| jobperm_mean |    1.9576960 |\n",
       "| jobperm_sd |    0.5616607 |\n",
       "| jobperm_min |    1.0000000 |\n",
       "| jobperm_max |    3.0000000 |\n",
       "| CFInc_AT_mean |   21.7535821 |\n",
       "| CFInc_AT_sd |    6.7052471 |\n",
       "| CFInc_AT_min |    1.0000000 |\n",
       "| CFInc_AT_max |   32.0000000 |\n",
       "| PR1_mean |   39.2202351 |\n",
       "| PR1_sd |   11.4857029 |\n",
       "| PR1_min |   10.0000000 |\n",
       "| PR1_max |   70.0000000 |\n",
       "| NOC21_mean |   13.0742514 |\n",
       "| NOC21_sd |    7.7657667 |\n",
       "| NOC21_min |    1.0000000 |\n",
       "| NOC21_max |   26.0000000 |\n",
       "| Gender_mean |    1.5166205 |\n",
       "| Gender_sd |    0.4997256 |\n",
       "| Gender_min |    1.0000000 |\n",
       "| Gender_max |    2.0000000 |\n",
       "| immstat_mean |    2.2186011 |\n",
       "| immstat_sd |    4.3303634 |\n",
       "| immstat_min |    2.0000000 |\n",
       "| immstat_max |   88.0000000 |\n",
       "\n"
      ],
      "text/plain": [
       "              [,1]        \n",
       "agegrp_mean     12.5840709\n",
       "agegrp_sd        2.7017528\n",
       "agegrp_min       6.0000000\n",
       "agegrp_max      21.0000000\n",
       "yrim_mean     1413.1256184\n",
       "yrim_sd        914.9249402\n",
       "yrim_min         1.0000000\n",
       "yrim_max      2020.0000000\n",
       "lfact_mean       2.2227089\n",
       "lfact_sd         3.0558378\n",
       "lfact_min        1.0000000\n",
       "lfact_max       12.0000000\n",
       "marsth_mean      2.1439941\n",
       "marsth_sd        1.0240488\n",
       "marsth_min       1.0000000\n",
       "marsth_max       6.0000000\n",
       "hdgree_mean      6.5763394\n",
       "hdgree_sd        3.7389250\n",
       "hdgree_min       1.0000000\n",
       "hdgree_max      13.0000000\n",
       "jobperm_mean     1.9576960\n",
       "jobperm_sd       0.5616607\n",
       "jobperm_min      1.0000000\n",
       "jobperm_max      3.0000000\n",
       "CFInc_AT_mean   21.7535821\n",
       "CFInc_AT_sd      6.7052471\n",
       "CFInc_AT_min     1.0000000\n",
       "CFInc_AT_max    32.0000000\n",
       "PR1_mean        39.2202351\n",
       "PR1_sd          11.4857029\n",
       "PR1_min         10.0000000\n",
       "PR1_max         70.0000000\n",
       "NOC21_mean      13.0742514\n",
       "NOC21_sd         7.7657667\n",
       "NOC21_min        1.0000000\n",
       "NOC21_max       26.0000000\n",
       "Gender_mean      1.5166205\n",
       "Gender_sd        0.4997256\n",
       "Gender_min       1.0000000\n",
       "Gender_max       2.0000000\n",
       "immstat_mean     2.2186011\n",
       "immstat_sd       4.3303634\n",
       "immstat_min      2.0000000\n",
       "immstat_max     88.0000000"
      ]
     },
     "metadata": {},
     "output_type": "display_data"
    }
   ],
   "source": [
    "\n",
    "statistic<- cleaned_data |> summarise(\n",
    "    across(everything(),\n",
    "      list(\n",
    "        mean = ~ mean(.x, na.rm = TRUE),\n",
    "        sd   = ~ sd(.x, na.rm = TRUE),\n",
    "        min  = ~ min(.x, na.rm = TRUE),\n",
    "        max  = ~ max(.x, na.rm = TRUE)\n",
    "      )\n",
    "    )\n",
    "  )\n",
    "\n",
    "statistic_tidy <- statistic |> t()\n",
    "\n",
    "statistic_tidy"
   ]
  },
  {
   "cell_type": "code",
   "execution_count": null,
   "id": "577c5e03-eca0-443a-9cd2-5ecc1445bfb8",
   "metadata": {},
   "outputs": [],
   "source": [
    "census_subset <- cleaned_data %>% filter(agegrp == 16 | agegrp == 17 ) |>\n",
    "    mutate(retired = ifelse(lfact %in% c(11,12,13), 1, 0)) |>\n",
    "    mutate(female = ifelse(Gender == 1, 1, 0))\n",
    "head(census_subset)"
   ]
  },
  {
   "cell_type": "code",
   "execution_count": null,
   "id": "b204f0d6-bdf7-41b2-9caa-d864b727996f",
   "metadata": {},
   "outputs": [],
   "source": [
    "census_subset <- census_subset %>% \n",
    "mutate(eligible = ifelse(agegrp == 17 & (immstat == 1 | (immstat %in% c(2,3) & (2021 - yrim) >= 10)), 1, 0))\n",
    "\n",
    "head(census_subset)"
   ]
  },
  {
   "cell_type": "code",
   "execution_count": null,
   "id": "2ed6ff0c-460a-4bf0-9d35-cb649f8fe199",
   "metadata": {},
   "outputs": [],
   "source": [
    "model1 <- lm(retired ~ eligible, data = census_subset) \n",
    "summary(model1)"
   ]
  },
  {
   "cell_type": "code",
   "execution_count": null,
   "id": "67410060-faab-48b5-b22b-dac029267f03",
   "metadata": {},
   "outputs": [],
   "source": [
    "model2 <- lm(retired ~ eligible + female + factor(marsth), data = census_subset) \n",
    "summary(model2)"
   ]
  },
  {
   "cell_type": "code",
   "execution_count": null,
   "id": "b977dc2e-8e32-4308-8a86-89709a0313ab",
   "metadata": {},
   "outputs": [],
   "source": [
    "model3 <- lm(retired ~ eligible + female + factor(marsth) + factor(hdgree) + factor(jobperm), data = census_subset) \n",
    "summary(model3)"
   ]
  },
  {
   "cell_type": "code",
   "execution_count": null,
   "id": "d35061b7-a097-4ca8-bbe4-cc80ca8a25f9",
   "metadata": {},
   "outputs": [],
   "source": [
    "model4 <- lm(retired ~ eligible + female + factor(marsth) + factor(hdgree) + factor(jobperm) + CFInc_AT\t + factor(PR1) + factor(NOC21), data = census_subset) \n",
    "summary(model4)"
   ]
  },
  {
   "cell_type": "code",
   "execution_count": null,
   "id": "5949d333-56a3-4b94-9ac2-f95f65976987",
   "metadata": {
    "scrolled": true
   },
   "outputs": [],
   "source": [
    "\n",
    "iv_model <- ivreg(\n",
    "  retired ~ eligible\n",
    "          + female\n",
    "          + factor(marsth)\n",
    "          + factor(hdgree)\n",
    "          + factor(jobperm)\n",
    "          + CFInc_AT\n",
    "          + factor(PR1)\n",
    "          + factor(NOC21)\n",
    "  | yob\n",
    "  + female\n",
    "  + factor(marsth)\n",
    "  + factor(hdgree)\n",
    "  + factor(jobperm)\n",
    "  + CFInc_AT\n",
    "  + factor(PR1)\n",
    "  + factor(NOC21),\n",
    "  data = census_subset\n",
    ")"
   ]
  },
  {
   "cell_type": "code",
   "execution_count": null,
   "id": "bcba1212-e89c-4eb9-9f1d-a6c3138bb006",
   "metadata": {},
   "outputs": [],
   "source": [
    "iv_model"
   ]
  },
  {
   "cell_type": "code",
   "execution_count": null,
   "id": "012eca43-f408-486c-8dcf-5bf1c05a12bf",
   "metadata": {},
   "outputs": [],
   "source": []
  }
 ],
 "metadata": {
  "kernelspec": {
   "display_name": "R",
   "language": "R",
   "name": "ir"
  },
  "language_info": {
   "codemirror_mode": "r",
   "file_extension": ".r",
   "mimetype": "text/x-r-source",
   "name": "R",
   "pygments_lexer": "r",
   "version": "4.3.3"
  }
 },
 "nbformat": 4,
 "nbformat_minor": 5
}
