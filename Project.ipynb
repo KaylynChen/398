{
 "cells": [
  {
   "cell_type": "code",
   "execution_count": 15,
   "id": "7077fdea-df15-48a3-a3ec-3a66638a1763",
   "metadata": {},
   "outputs": [],
   "source": [
    "library(tidyverse)\n",
    "library(haven)\n",
    "library(ivreg)"
   ]
  },
  {
   "cell_type": "code",
   "execution_count": 2,
   "id": "6616ea20-3dad-4cb4-aee2-badd51105529",
   "metadata": {},
   "outputs": [],
   "source": [
    "census_data <- read_dta('cen_ind_2021_pumf_v2 2.dta')"
   ]
  },
  {
   "cell_type": "code",
   "execution_count": 3,
   "id": "c4b89d86-7b5e-4831-89f9-408ab65d7acb",
   "metadata": {},
   "outputs": [
    {
     "data": {
      "text/html": [
       "<table class=\"dataframe\">\n",
       "<caption>A tibble: 1 × 44</caption>\n",
       "<thead>\n",
       "\t<tr><th scope=col>agegrp_mean</th><th scope=col>agegrp_sd</th><th scope=col>agegrp_min</th><th scope=col>agegrp_max</th><th scope=col>yrim_mean</th><th scope=col>yrim_sd</th><th scope=col>yrim_min</th><th scope=col>yrim_max</th><th scope=col>lfact_mean</th><th scope=col>lfact_sd</th><th scope=col>⋯</th><th scope=col>NOC21_min</th><th scope=col>NOC21_max</th><th scope=col>Gender_mean</th><th scope=col>Gender_sd</th><th scope=col>Gender_min</th><th scope=col>Gender_max</th><th scope=col>immstat_mean</th><th scope=col>immstat_sd</th><th scope=col>immstat_min</th><th scope=col>immstat_max</th></tr>\n",
       "\t<tr><th scope=col>&lt;dbl&gt;</th><th scope=col>&lt;dbl&gt;</th><th scope=col>&lt;dbl+lbl&gt;</th><th scope=col>&lt;dbl+lbl&gt;</th><th scope=col>&lt;dbl&gt;</th><th scope=col>&lt;dbl&gt;</th><th scope=col>&lt;dbl+lbl&gt;</th><th scope=col>&lt;dbl+lbl&gt;</th><th scope=col>&lt;dbl&gt;</th><th scope=col>&lt;dbl&gt;</th><th scope=col>⋯</th><th scope=col>&lt;dbl+lbl&gt;</th><th scope=col>&lt;dbl+lbl&gt;</th><th scope=col>&lt;dbl&gt;</th><th scope=col>&lt;dbl&gt;</th><th scope=col>&lt;dbl+lbl&gt;</th><th scope=col>&lt;dbl+lbl&gt;</th><th scope=col>&lt;dbl&gt;</th><th scope=col>&lt;dbl&gt;</th><th scope=col>&lt;dbl+lbl&gt;</th><th scope=col>&lt;dbl+lbl&gt;</th></tr>\n",
       "</thead>\n",
       "<tbody>\n",
       "\t<tr><td>12.58407</td><td>2.701753</td><td>6</td><td>21</td><td>1413.126</td><td>914.9249</td><td>1</td><td>2020</td><td>2.222709</td><td>3.055838</td><td>⋯</td><td>1</td><td>26</td><td>1.516621</td><td>0.4997256</td><td>1</td><td>2</td><td>2.218601</td><td>4.330363</td><td>2</td><td>88</td></tr>\n",
       "</tbody>\n",
       "</table>\n"
      ],
      "text/latex": [
       "A tibble: 1 × 44\n",
       "\\begin{tabular}{lllllllllllllllllllll}\n",
       " agegrp\\_mean & agegrp\\_sd & agegrp\\_min & agegrp\\_max & yrim\\_mean & yrim\\_sd & yrim\\_min & yrim\\_max & lfact\\_mean & lfact\\_sd & ⋯ & NOC21\\_min & NOC21\\_max & Gender\\_mean & Gender\\_sd & Gender\\_min & Gender\\_max & immstat\\_mean & immstat\\_sd & immstat\\_min & immstat\\_max\\\\\n",
       " <dbl> & <dbl> & <dbl+lbl> & <dbl+lbl> & <dbl> & <dbl> & <dbl+lbl> & <dbl+lbl> & <dbl> & <dbl> & ⋯ & <dbl+lbl> & <dbl+lbl> & <dbl> & <dbl> & <dbl+lbl> & <dbl+lbl> & <dbl> & <dbl> & <dbl+lbl> & <dbl+lbl>\\\\\n",
       "\\hline\n",
       "\t 12.58407 & 2.701753 & 6 & 21 & 1413.126 & 914.9249 & 1 & 2020 & 2.222709 & 3.055838 & ⋯ & 1 & 26 & 1.516621 & 0.4997256 & 1 & 2 & 2.218601 & 4.330363 & 2 & 88\\\\\n",
       "\\end{tabular}\n"
      ],
      "text/markdown": [
       "\n",
       "A tibble: 1 × 44\n",
       "\n",
       "| agegrp_mean &lt;dbl&gt; | agegrp_sd &lt;dbl&gt; | agegrp_min &lt;dbl+lbl&gt; | agegrp_max &lt;dbl+lbl&gt; | yrim_mean &lt;dbl&gt; | yrim_sd &lt;dbl&gt; | yrim_min &lt;dbl+lbl&gt; | yrim_max &lt;dbl+lbl&gt; | lfact_mean &lt;dbl&gt; | lfact_sd &lt;dbl&gt; | ⋯ ⋯ | NOC21_min &lt;dbl+lbl&gt; | NOC21_max &lt;dbl+lbl&gt; | Gender_mean &lt;dbl&gt; | Gender_sd &lt;dbl&gt; | Gender_min &lt;dbl+lbl&gt; | Gender_max &lt;dbl+lbl&gt; | immstat_mean &lt;dbl&gt; | immstat_sd &lt;dbl&gt; | immstat_min &lt;dbl+lbl&gt; | immstat_max &lt;dbl+lbl&gt; |\n",
       "|---|---|---|---|---|---|---|---|---|---|---|---|---|---|---|---|---|---|---|---|---|\n",
       "| 12.58407 | 2.701753 | 6 | 21 | 1413.126 | 914.9249 | 1 | 2020 | 2.222709 | 3.055838 | ⋯ | 1 | 26 | 1.516621 | 0.4997256 | 1 | 2 | 2.218601 | 4.330363 | 2 | 88 |\n",
       "\n"
      ],
      "text/plain": [
       "  agegrp_mean agegrp_sd agegrp_min agegrp_max yrim_mean yrim_sd  yrim_min\n",
       "1 12.58407    2.701753  6          21         1413.126  914.9249 1       \n",
       "  yrim_max lfact_mean lfact_sd ⋯ NOC21_min NOC21_max Gender_mean Gender_sd\n",
       "1 2020     2.222709   3.055838 ⋯ 1         26        1.516621    0.4997256\n",
       "  Gender_min Gender_max immstat_mean immstat_sd immstat_min immstat_max\n",
       "1 1          2          2.218601     4.330363   2           88         "
      ]
     },
     "metadata": {},
     "output_type": "display_data"
    }
   ],
   "source": [
    "cleaned_data <- census_data |> select(agegrp, yrim, lfact, marsth, hdgree, jobperm,CFInc_AT, PR1, NOC21, Gender, immstat) |> \n",
    "    filter(agegrp != 88) |> \n",
    "    filter(yrim != 8888 & yrim != 9999) |>\n",
    "    filter(lfact != 88 & lfact != 99) |>\n",
    "    filter(marsth != 8) |>\n",
    "    filter(hdgree != 88 & hdgree != 99) |>\n",
    "    filter(jobperm != 8 & jobperm != 9) |>\n",
    "    filter(CFInc_AT != 88) |>\n",
    "    filter(PR1 != 88 & PR1 != 99) |>\n",
    "    filter(NOC21 != 88 & NOC21 != 99)\n",
    "\n",
    "statistic<- cleaned_data |> summarise(\n",
    "    across(everything(),\n",
    "      list(\n",
    "        mean = ~ mean(.x, na.rm = TRUE),\n",
    "        sd   = ~ sd(.x, na.rm = TRUE),\n",
    "        min  = ~ min(.x, na.rm = TRUE),\n",
    "        max  = ~ max(.x, na.rm = TRUE)\n",
    "      )\n",
    "    )\n",
    "  )\n",
    "head(statistic)"
   ]
  },
  {
   "cell_type": "code",
   "execution_count": 4,
   "id": "577c5e03-eca0-443a-9cd2-5ecc1445bfb8",
   "metadata": {},
   "outputs": [
    {
     "data": {
      "text/html": [
       "<table class=\"dataframe\">\n",
       "<caption>A tibble: 6 × 13</caption>\n",
       "<thead>\n",
       "\t<tr><th scope=col>agegrp</th><th scope=col>yrim</th><th scope=col>lfact</th><th scope=col>marsth</th><th scope=col>hdgree</th><th scope=col>jobperm</th><th scope=col>CFInc_AT</th><th scope=col>PR1</th><th scope=col>NOC21</th><th scope=col>Gender</th><th scope=col>immstat</th><th scope=col>retired</th><th scope=col>female</th></tr>\n",
       "\t<tr><th scope=col>&lt;dbl+lbl&gt;</th><th scope=col>&lt;dbl+lbl&gt;</th><th scope=col>&lt;dbl+lbl&gt;</th><th scope=col>&lt;dbl+lbl&gt;</th><th scope=col>&lt;dbl+lbl&gt;</th><th scope=col>&lt;dbl+lbl&gt;</th><th scope=col>&lt;dbl+lbl&gt;</th><th scope=col>&lt;dbl+lbl&gt;</th><th scope=col>&lt;dbl+lbl&gt;</th><th scope=col>&lt;dbl+lbl&gt;</th><th scope=col>&lt;dbl+lbl&gt;</th><th scope=col>&lt;dbl&gt;</th><th scope=col>&lt;dbl&gt;</th></tr>\n",
       "</thead>\n",
       "<tbody>\n",
       "\t<tr><td>16</td><td>   6</td><td>1</td><td>5</td><td>1</td><td>2</td><td>12</td><td>35</td><td>26</td><td>2</td><td>2</td><td>0</td><td>0</td></tr>\n",
       "\t<tr><td>16</td><td>2006</td><td>1</td><td>2</td><td>9</td><td>2</td><td>27</td><td>35</td><td> 2</td><td>2</td><td>2</td><td>0</td><td>0</td></tr>\n",
       "\t<tr><td>17</td><td>   9</td><td>5</td><td>1</td><td>9</td><td>2</td><td>13</td><td>35</td><td> 6</td><td>1</td><td>2</td><td>0</td><td>1</td></tr>\n",
       "\t<tr><td>16</td><td>1995</td><td>1</td><td>1</td><td>7</td><td>1</td><td>11</td><td>48</td><td>12</td><td>1</td><td>2</td><td>0</td><td>1</td></tr>\n",
       "\t<tr><td>17</td><td>   8</td><td>1</td><td>2</td><td>2</td><td>1</td><td>29</td><td>24</td><td>18</td><td>2</td><td>2</td><td>0</td><td>0</td></tr>\n",
       "\t<tr><td>16</td><td>   7</td><td>1</td><td>2</td><td>4</td><td>1</td><td>29</td><td>48</td><td>21</td><td>2</td><td>2</td><td>0</td><td>0</td></tr>\n",
       "</tbody>\n",
       "</table>\n"
      ],
      "text/latex": [
       "A tibble: 6 × 13\n",
       "\\begin{tabular}{lllllllllllll}\n",
       " agegrp & yrim & lfact & marsth & hdgree & jobperm & CFInc\\_AT & PR1 & NOC21 & Gender & immstat & retired & female\\\\\n",
       " <dbl+lbl> & <dbl+lbl> & <dbl+lbl> & <dbl+lbl> & <dbl+lbl> & <dbl+lbl> & <dbl+lbl> & <dbl+lbl> & <dbl+lbl> & <dbl+lbl> & <dbl+lbl> & <dbl> & <dbl>\\\\\n",
       "\\hline\n",
       "\t 16 &    6 & 1 & 5 & 1 & 2 & 12 & 35 & 26 & 2 & 2 & 0 & 0\\\\\n",
       "\t 16 & 2006 & 1 & 2 & 9 & 2 & 27 & 35 &  2 & 2 & 2 & 0 & 0\\\\\n",
       "\t 17 &    9 & 5 & 1 & 9 & 2 & 13 & 35 &  6 & 1 & 2 & 0 & 1\\\\\n",
       "\t 16 & 1995 & 1 & 1 & 7 & 1 & 11 & 48 & 12 & 1 & 2 & 0 & 1\\\\\n",
       "\t 17 &    8 & 1 & 2 & 2 & 1 & 29 & 24 & 18 & 2 & 2 & 0 & 0\\\\\n",
       "\t 16 &    7 & 1 & 2 & 4 & 1 & 29 & 48 & 21 & 2 & 2 & 0 & 0\\\\\n",
       "\\end{tabular}\n"
      ],
      "text/markdown": [
       "\n",
       "A tibble: 6 × 13\n",
       "\n",
       "| agegrp &lt;dbl+lbl&gt; | yrim &lt;dbl+lbl&gt; | lfact &lt;dbl+lbl&gt; | marsth &lt;dbl+lbl&gt; | hdgree &lt;dbl+lbl&gt; | jobperm &lt;dbl+lbl&gt; | CFInc_AT &lt;dbl+lbl&gt; | PR1 &lt;dbl+lbl&gt; | NOC21 &lt;dbl+lbl&gt; | Gender &lt;dbl+lbl&gt; | immstat &lt;dbl+lbl&gt; | retired &lt;dbl&gt; | female &lt;dbl&gt; |\n",
       "|---|---|---|---|---|---|---|---|---|---|---|---|---|\n",
       "| 16 |    6 | 1 | 5 | 1 | 2 | 12 | 35 | 26 | 2 | 2 | 0 | 0 |\n",
       "| 16 | 2006 | 1 | 2 | 9 | 2 | 27 | 35 |  2 | 2 | 2 | 0 | 0 |\n",
       "| 17 |    9 | 5 | 1 | 9 | 2 | 13 | 35 |  6 | 1 | 2 | 0 | 1 |\n",
       "| 16 | 1995 | 1 | 1 | 7 | 1 | 11 | 48 | 12 | 1 | 2 | 0 | 1 |\n",
       "| 17 |    8 | 1 | 2 | 2 | 1 | 29 | 24 | 18 | 2 | 2 | 0 | 0 |\n",
       "| 16 |    7 | 1 | 2 | 4 | 1 | 29 | 48 | 21 | 2 | 2 | 0 | 0 |\n",
       "\n"
      ],
      "text/plain": [
       "  agegrp yrim lfact marsth hdgree jobperm CFInc_AT PR1 NOC21 Gender immstat\n",
       "1 16        6 1     5      1      2       12       35  26    2      2      \n",
       "2 16     2006 1     2      9      2       27       35   2    2      2      \n",
       "3 17        9 5     1      9      2       13       35   6    1      2      \n",
       "4 16     1995 1     1      7      1       11       48  12    1      2      \n",
       "5 17        8 1     2      2      1       29       24  18    2      2      \n",
       "6 16        7 1     2      4      1       29       48  21    2      2      \n",
       "  retired female\n",
       "1 0       0     \n",
       "2 0       0     \n",
       "3 0       1     \n",
       "4 0       1     \n",
       "5 0       0     \n",
       "6 0       0     "
      ]
     },
     "metadata": {},
     "output_type": "display_data"
    }
   ],
   "source": [
    "census_subset <- cleaned_data %>% filter(agegrp == 16 | agegrp == 17 ) |>\n",
    "    mutate(retired = ifelse(lfact %in% c(11,12,13), 1, 0)) |>\n",
    "    mutate(female = ifelse(Gender == 1, 1, 0))\n",
    "head(census_subset)"
   ]
  },
  {
   "cell_type": "code",
   "execution_count": 20,
   "id": "b204f0d6-bdf7-41b2-9caa-d864b727996f",
   "metadata": {},
   "outputs": [
    {
     "data": {
      "text/html": [
       "<table class=\"dataframe\">\n",
       "<caption>A tibble: 6 × 15</caption>\n",
       "<thead>\n",
       "\t<tr><th scope=col>agegrp</th><th scope=col>yrim</th><th scope=col>lfact</th><th scope=col>marsth</th><th scope=col>hdgree</th><th scope=col>jobperm</th><th scope=col>CFInc_AT</th><th scope=col>PR1</th><th scope=col>NOC21</th><th scope=col>Gender</th><th scope=col>immstat</th><th scope=col>retired</th><th scope=col>female</th><th scope=col>eligible</th><th scope=col>yob</th></tr>\n",
       "\t<tr><th scope=col>&lt;dbl+lbl&gt;</th><th scope=col>&lt;dbl+lbl&gt;</th><th scope=col>&lt;dbl+lbl&gt;</th><th scope=col>&lt;dbl+lbl&gt;</th><th scope=col>&lt;dbl+lbl&gt;</th><th scope=col>&lt;dbl+lbl&gt;</th><th scope=col>&lt;dbl+lbl&gt;</th><th scope=col>&lt;dbl+lbl&gt;</th><th scope=col>&lt;dbl+lbl&gt;</th><th scope=col>&lt;dbl+lbl&gt;</th><th scope=col>&lt;dbl+lbl&gt;</th><th scope=col>&lt;dbl&gt;</th><th scope=col>&lt;dbl&gt;</th><th scope=col>&lt;dbl&gt;</th><th scope=col>&lt;dbl&gt;</th></tr>\n",
       "</thead>\n",
       "<tbody>\n",
       "\t<tr><td>16</td><td>   6</td><td>1</td><td>5</td><td>1</td><td>2</td><td>12</td><td>35</td><td>26</td><td>2</td><td>2</td><td>0</td><td>0</td><td>0</td><td>2005</td></tr>\n",
       "\t<tr><td>16</td><td>2006</td><td>1</td><td>2</td><td>9</td><td>2</td><td>27</td><td>35</td><td> 2</td><td>2</td><td>2</td><td>0</td><td>0</td><td>0</td><td>2005</td></tr>\n",
       "\t<tr><td>17</td><td>   9</td><td>5</td><td>1</td><td>9</td><td>2</td><td>13</td><td>35</td><td> 6</td><td>1</td><td>2</td><td>0</td><td>1</td><td>1</td><td>2004</td></tr>\n",
       "\t<tr><td>16</td><td>1995</td><td>1</td><td>1</td><td>7</td><td>1</td><td>11</td><td>48</td><td>12</td><td>1</td><td>2</td><td>0</td><td>1</td><td>0</td><td>2005</td></tr>\n",
       "\t<tr><td>17</td><td>   8</td><td>1</td><td>2</td><td>2</td><td>1</td><td>29</td><td>24</td><td>18</td><td>2</td><td>2</td><td>0</td><td>0</td><td>1</td><td>2004</td></tr>\n",
       "\t<tr><td>16</td><td>   7</td><td>1</td><td>2</td><td>4</td><td>1</td><td>29</td><td>48</td><td>21</td><td>2</td><td>2</td><td>0</td><td>0</td><td>0</td><td>2005</td></tr>\n",
       "</tbody>\n",
       "</table>\n"
      ],
      "text/latex": [
       "A tibble: 6 × 15\n",
       "\\begin{tabular}{lllllllllllllll}\n",
       " agegrp & yrim & lfact & marsth & hdgree & jobperm & CFInc\\_AT & PR1 & NOC21 & Gender & immstat & retired & female & eligible & yob\\\\\n",
       " <dbl+lbl> & <dbl+lbl> & <dbl+lbl> & <dbl+lbl> & <dbl+lbl> & <dbl+lbl> & <dbl+lbl> & <dbl+lbl> & <dbl+lbl> & <dbl+lbl> & <dbl+lbl> & <dbl> & <dbl> & <dbl> & <dbl>\\\\\n",
       "\\hline\n",
       "\t 16 &    6 & 1 & 5 & 1 & 2 & 12 & 35 & 26 & 2 & 2 & 0 & 0 & 0 & 2005\\\\\n",
       "\t 16 & 2006 & 1 & 2 & 9 & 2 & 27 & 35 &  2 & 2 & 2 & 0 & 0 & 0 & 2005\\\\\n",
       "\t 17 &    9 & 5 & 1 & 9 & 2 & 13 & 35 &  6 & 1 & 2 & 0 & 1 & 1 & 2004\\\\\n",
       "\t 16 & 1995 & 1 & 1 & 7 & 1 & 11 & 48 & 12 & 1 & 2 & 0 & 1 & 0 & 2005\\\\\n",
       "\t 17 &    8 & 1 & 2 & 2 & 1 & 29 & 24 & 18 & 2 & 2 & 0 & 0 & 1 & 2004\\\\\n",
       "\t 16 &    7 & 1 & 2 & 4 & 1 & 29 & 48 & 21 & 2 & 2 & 0 & 0 & 0 & 2005\\\\\n",
       "\\end{tabular}\n"
      ],
      "text/markdown": [
       "\n",
       "A tibble: 6 × 15\n",
       "\n",
       "| agegrp &lt;dbl+lbl&gt; | yrim &lt;dbl+lbl&gt; | lfact &lt;dbl+lbl&gt; | marsth &lt;dbl+lbl&gt; | hdgree &lt;dbl+lbl&gt; | jobperm &lt;dbl+lbl&gt; | CFInc_AT &lt;dbl+lbl&gt; | PR1 &lt;dbl+lbl&gt; | NOC21 &lt;dbl+lbl&gt; | Gender &lt;dbl+lbl&gt; | immstat &lt;dbl+lbl&gt; | retired &lt;dbl&gt; | female &lt;dbl&gt; | eligible &lt;dbl&gt; | yob &lt;dbl&gt; |\n",
       "|---|---|---|---|---|---|---|---|---|---|---|---|---|---|---|\n",
       "| 16 |    6 | 1 | 5 | 1 | 2 | 12 | 35 | 26 | 2 | 2 | 0 | 0 | 0 | 2005 |\n",
       "| 16 | 2006 | 1 | 2 | 9 | 2 | 27 | 35 |  2 | 2 | 2 | 0 | 0 | 0 | 2005 |\n",
       "| 17 |    9 | 5 | 1 | 9 | 2 | 13 | 35 |  6 | 1 | 2 | 0 | 1 | 1 | 2004 |\n",
       "| 16 | 1995 | 1 | 1 | 7 | 1 | 11 | 48 | 12 | 1 | 2 | 0 | 1 | 0 | 2005 |\n",
       "| 17 |    8 | 1 | 2 | 2 | 1 | 29 | 24 | 18 | 2 | 2 | 0 | 0 | 1 | 2004 |\n",
       "| 16 |    7 | 1 | 2 | 4 | 1 | 29 | 48 | 21 | 2 | 2 | 0 | 0 | 0 | 2005 |\n",
       "\n"
      ],
      "text/plain": [
       "  agegrp yrim lfact marsth hdgree jobperm CFInc_AT PR1 NOC21 Gender immstat\n",
       "1 16        6 1     5      1      2       12       35  26    2      2      \n",
       "2 16     2006 1     2      9      2       27       35   2    2      2      \n",
       "3 17        9 5     1      9      2       13       35   6    1      2      \n",
       "4 16     1995 1     1      7      1       11       48  12    1      2      \n",
       "5 17        8 1     2      2      1       29       24  18    2      2      \n",
       "6 16        7 1     2      4      1       29       48  21    2      2      \n",
       "  retired female eligible yob \n",
       "1 0       0      0        2005\n",
       "2 0       0      0        2005\n",
       "3 0       1      1        2004\n",
       "4 0       1      0        2005\n",
       "5 0       0      1        2004\n",
       "6 0       0      0        2005"
      ]
     },
     "metadata": {},
     "output_type": "display_data"
    }
   ],
   "source": [
    "census_subset <- census_subset %>% \n",
    "mutate(eligible = ifelse(agegrp == 17 & (immstat == 1 | (immstat %in% c(2,3) & (2021 - yrim) >= 10)), 1, 0))\n",
    "\n",
    "head(census_subset)"
   ]
  },
  {
   "cell_type": "code",
   "execution_count": 21,
   "id": "2ed6ff0c-460a-4bf0-9d35-cb649f8fe199",
   "metadata": {},
   "outputs": [
    {
     "data": {
      "text/plain": [
       "\n",
       "Call:\n",
       "lm(formula = retired ~ eligible, data = census_subset)\n",
       "\n",
       "Residuals:\n",
       "    Min      1Q  Median      3Q     Max \n",
       "-0.2104 -0.2104 -0.1011 -0.1011  0.8989 \n",
       "\n",
       "Coefficients:\n",
       "            Estimate Std. Error t value Pr(>|t|)    \n",
       "(Intercept) 0.101074   0.003259   31.01   <2e-16 ***\n",
       "eligible    0.109334   0.005675   19.27   <2e-16 ***\n",
       "---\n",
       "Signif. codes:  0 ‘***’ 0.001 ‘**’ 0.01 ‘*’ 0.05 ‘.’ 0.1 ‘ ’ 1\n",
       "\n",
       "Residual standard error: 0.3401 on 16252 degrees of freedom\n",
       "Multiple R-squared:  0.02233,\tAdjusted R-squared:  0.02227 \n",
       "F-statistic: 371.2 on 1 and 16252 DF,  p-value: < 2.2e-16\n"
      ]
     },
     "metadata": {},
     "output_type": "display_data"
    }
   ],
   "source": [
    "model1 <- lm(retired ~ eligible, data = census_subset) \n",
    "summary(model1)"
   ]
  },
  {
   "cell_type": "code",
   "execution_count": 22,
   "id": "67410060-faab-48b5-b22b-dac029267f03",
   "metadata": {},
   "outputs": [
    {
     "data": {
      "text/plain": [
       "\n",
       "Call:\n",
       "lm(formula = retired ~ eligible + female + factor(marsth), data = census_subset)\n",
       "\n",
       "Residuals:\n",
       "    Min      1Q  Median      3Q     Max \n",
       "-0.2442 -0.1889 -0.1186 -0.0820  0.9439 \n",
       "\n",
       "Coefficients:\n",
       "                 Estimate Std. Error t value Pr(>|t|)    \n",
       "(Intercept)      0.088097   0.012025   7.326 2.48e-13 ***\n",
       "eligible         0.111266   0.005676  19.602  < 2e-16 ***\n",
       "female           0.040924   0.005492   7.451 9.71e-14 ***\n",
       "factor(marsth)2 -0.006099   0.011885  -0.513   0.6079    \n",
       "factor(marsth)3  0.003235   0.016666   0.194   0.8461    \n",
       "factor(marsth)4 -0.031961   0.018403  -1.737   0.0824 .  \n",
       "factor(marsth)5 -0.010454   0.014249  -0.734   0.4632    \n",
       "factor(marsth)6  0.003885   0.017454   0.223   0.8239    \n",
       "---\n",
       "Signif. codes:  0 ‘***’ 0.001 ‘**’ 0.01 ‘*’ 0.05 ‘.’ 0.1 ‘ ’ 1\n",
       "\n",
       "Residual standard error: 0.3396 on 16246 degrees of freedom\n",
       "Multiple R-squared:  0.02611,\tAdjusted R-squared:  0.02569 \n",
       "F-statistic: 62.23 on 7 and 16246 DF,  p-value: < 2.2e-16\n"
      ]
     },
     "metadata": {},
     "output_type": "display_data"
    }
   ],
   "source": [
    "model2 <- lm(retired ~ eligible + female + factor(marsth), data = census_subset) \n",
    "summary(model2)"
   ]
  },
  {
   "cell_type": "code",
   "execution_count": 23,
   "id": "b977dc2e-8e32-4308-8a86-89709a0313ab",
   "metadata": {},
   "outputs": [
    {
     "data": {
      "text/plain": [
       "\n",
       "Call:\n",
       "lm(formula = retired ~ eligible + female + factor(marsth) + factor(hdgree) + \n",
       "    factor(jobperm), data = census_subset)\n",
       "\n",
       "Residuals:\n",
       "     Min       1Q   Median       3Q      Max \n",
       "-0.39931 -0.17910 -0.10305 -0.05218  1.02278 \n",
       "\n",
       "Coefficients:\n",
       "                  Estimate Std. Error t value Pr(>|t|)    \n",
       "(Intercept)       0.148196   0.014466  10.244  < 2e-16 ***\n",
       "eligible          0.108512   0.005636  19.255  < 2e-16 ***\n",
       "female            0.041558   0.005508   7.545 4.77e-14 ***\n",
       "factor(marsth)2  -0.001344   0.011767  -0.114 0.909098    \n",
       "factor(marsth)3   0.003232   0.016492   0.196 0.844653    \n",
       "factor(marsth)4  -0.033907   0.018209  -1.862 0.062607 .  \n",
       "factor(marsth)5  -0.010651   0.014101  -0.755 0.450057    \n",
       "factor(marsth)6  -0.001489   0.017276  -0.086 0.931293    \n",
       "factor(hdgree)2  -0.032252   0.009085  -3.550 0.000386 ***\n",
       "factor(hdgree)3  -0.048999   0.014558  -3.366 0.000765 ***\n",
       "factor(hdgree)4  -0.001952   0.015924  -0.123 0.902419    \n",
       "factor(hdgree)5  -0.045412   0.016500  -2.752 0.005925 ** \n",
       "factor(hdgree)6  -0.061627   0.012276  -5.020 5.22e-07 ***\n",
       "factor(hdgree)7  -0.041991   0.011976  -3.506 0.000456 ***\n",
       "factor(hdgree)8  -0.066502   0.014417  -4.613 4.01e-06 ***\n",
       "factor(hdgree)9  -0.065563   0.009559  -6.859 7.20e-12 ***\n",
       "factor(hdgree)10 -0.055914   0.018719  -2.987 0.002821 ** \n",
       "factor(hdgree)11 -0.121040   0.022671  -5.339 9.47e-08 ***\n",
       "factor(hdgree)12 -0.061218   0.012026  -5.091 3.61e-07 ***\n",
       "factor(hdgree)13 -0.126262   0.018877  -6.689 2.33e-11 ***\n",
       "factor(jobperm)2 -0.043372   0.006300  -6.884 6.01e-12 ***\n",
       "factor(jobperm)3  0.097809   0.009751  10.031  < 2e-16 ***\n",
       "---\n",
       "Signif. codes:  0 ‘***’ 0.001 ‘**’ 0.01 ‘*’ 0.05 ‘.’ 0.1 ‘ ’ 1\n",
       "\n",
       "Residual standard error: 0.3358 on 16232 degrees of freedom\n",
       "Multiple R-squared:  0.04858,\tAdjusted R-squared:  0.04735 \n",
       "F-statistic: 39.47 on 21 and 16232 DF,  p-value: < 2.2e-16\n"
      ]
     },
     "metadata": {},
     "output_type": "display_data"
    }
   ],
   "source": [
    "model3 <- lm(retired ~ eligible + female + factor(marsth) + factor(hdgree) + factor(jobperm), data = census_subset) \n",
    "summary(model3)"
   ]
  },
  {
   "cell_type": "code",
   "execution_count": 24,
   "id": "d35061b7-a097-4ca8-bbe4-cc80ca8a25f9",
   "metadata": {},
   "outputs": [
    {
     "data": {
      "text/plain": [
       "\n",
       "Call:\n",
       "lm(formula = retired ~ eligible + female + factor(marsth) + factor(hdgree) + \n",
       "    factor(jobperm) + CFInc_AT + factor(PR1) + factor(NOC21), \n",
       "    data = census_subset)\n",
       "\n",
       "Residuals:\n",
       "    Min      1Q  Median      3Q     Max \n",
       "-0.4670 -0.1714 -0.1024 -0.0411  1.0391 \n",
       "\n",
       "Coefficients:\n",
       "                   Estimate Std. Error t value Pr(>|t|)    \n",
       "(Intercept)       0.3299741  0.0768642   4.293 1.77e-05 ***\n",
       "eligible          0.1090964  0.0056242  19.398  < 2e-16 ***\n",
       "female            0.0392866  0.0063234   6.213 5.33e-10 ***\n",
       "factor(marsth)2   0.0416092  0.0123302   3.375 0.000741 ***\n",
       "factor(marsth)3   0.0480932  0.0168635   2.852 0.004351 ** \n",
       "factor(marsth)4  -0.0289757  0.0181543  -1.596 0.110490    \n",
       "factor(marsth)5  -0.0060493  0.0140637  -0.430 0.667103    \n",
       "factor(marsth)6   0.0073167  0.0172448   0.424 0.671362    \n",
       "factor(hdgree)2  -0.0236251  0.0091966  -2.569 0.010211 *  \n",
       "factor(hdgree)3  -0.0389440  0.0146893  -2.651 0.008029 ** \n",
       "factor(hdgree)4   0.0061813  0.0162472   0.380 0.703615    \n",
       "factor(hdgree)5  -0.0323767  0.0167417  -1.934 0.053144 .  \n",
       "factor(hdgree)6  -0.0489051  0.0126102  -3.878 0.000106 ***\n",
       "factor(hdgree)7  -0.0296422  0.0123123  -2.408 0.016072 *  \n",
       "factor(hdgree)8  -0.0554817  0.0146634  -3.784 0.000155 ***\n",
       "factor(hdgree)9  -0.0475606  0.0102169  -4.655 3.26e-06 ***\n",
       "factor(hdgree)10 -0.0388926  0.0190599  -2.041 0.041312 *  \n",
       "factor(hdgree)11 -0.0697685  0.0258965  -2.694 0.007065 ** \n",
       "factor(hdgree)12 -0.0393265  0.0131043  -3.001 0.002695 ** \n",
       "factor(hdgree)13 -0.1003194  0.0204273  -4.911 9.15e-07 ***\n",
       "factor(jobperm)2 -0.0265644  0.0067426  -3.940 8.19e-05 ***\n",
       "factor(jobperm)3  0.0964366  0.0099730   9.670  < 2e-16 ***\n",
       "CFInc_AT         -0.0052199  0.0004485 -11.638  < 2e-16 ***\n",
       "factor(PR1)11    -0.2822078  0.1380923  -2.044 0.041007 *  \n",
       "factor(PR1)12    -0.1379824  0.0785238  -1.757 0.078902 .  \n",
       "factor(PR1)13    -0.2293982  0.0870606  -2.635 0.008424 ** \n",
       "factor(PR1)24    -0.1571788  0.0717469  -2.191 0.028485 *  \n",
       "factor(PR1)35    -0.1422950  0.0714501  -1.992 0.046439 *  \n",
       "factor(PR1)46    -0.1435487  0.0734277  -1.955 0.050604 .  \n",
       "factor(PR1)47    -0.2223319  0.0777894  -2.858 0.004267 ** \n",
       "factor(PR1)48    -0.1480249  0.0718555  -2.060 0.039411 *  \n",
       "factor(PR1)59    -0.1484242  0.0716222  -2.072 0.038251 *  \n",
       "factor(PR1)70    -0.0334288  0.1323736  -0.253 0.800632    \n",
       "factor(NOC21)2    0.0070130  0.0243268   0.288 0.773133    \n",
       "factor(NOC21)3    0.0198691  0.0270599   0.734 0.462798    \n",
       "factor(NOC21)4    0.0175032  0.0293639   0.596 0.551131    \n",
       "factor(NOC21)5    0.0030382  0.0267853   0.113 0.909693    \n",
       "factor(NOC21)6    0.0173037  0.0260640   0.664 0.506768    \n",
       "factor(NOC21)7    0.0291147  0.0257387   1.131 0.258003    \n",
       "factor(NOC21)8    0.0576941  0.0284371   2.029 0.042492 *  \n",
       "factor(NOC21)9    0.0053998  0.0285138   0.189 0.849801    \n",
       "factor(NOC21)10   0.0074997  0.0342517   0.219 0.826686    \n",
       "factor(NOC21)11  -0.0049851  0.0273280  -0.182 0.855257    \n",
       "factor(NOC21)12   0.0255804  0.0260738   0.981 0.326570    \n",
       "factor(NOC21)13   0.0371748  0.0299274   1.242 0.214192    \n",
       "factor(NOC21)14   0.0586789  0.0288042   2.037 0.041650 *  \n",
       "factor(NOC21)15   0.0080409  0.0321850   0.250 0.802718    \n",
       "factor(NOC21)16   0.0606762  0.0382768   1.585 0.112941    \n",
       "factor(NOC21)17   0.0060075  0.0303206   0.198 0.842943    \n",
       "factor(NOC21)18   0.0490907  0.0260056   1.888 0.059084 .  \n",
       "factor(NOC21)19   0.0211235  0.0252337   0.837 0.402540    \n",
       "factor(NOC21)20   0.0262069  0.0247582   1.059 0.289837    \n",
       "factor(NOC21)21   0.0191379  0.0257554   0.743 0.457454    \n",
       "factor(NOC21)22   0.0242493  0.0256394   0.946 0.344274    \n",
       "factor(NOC21)23  -0.0451371  0.0390163  -1.157 0.247339    \n",
       "factor(NOC21)24   0.0071219  0.0264400   0.269 0.787656    \n",
       "factor(NOC21)25   0.0319656  0.0356140   0.898 0.369436    \n",
       "factor(NOC21)26   0.0068279  0.0252008   0.271 0.786440    \n",
       "---\n",
       "Signif. codes:  0 ‘***’ 0.001 ‘**’ 0.01 ‘*’ 0.05 ‘.’ 0.1 ‘ ’ 1\n",
       "\n",
       "Residual standard error: 0.334 on 16196 degrees of freedom\n",
       "Multiple R-squared:  0.06044,\tAdjusted R-squared:  0.05714 \n",
       "F-statistic: 18.28 on 57 and 16196 DF,  p-value: < 2.2e-16\n"
      ]
     },
     "metadata": {},
     "output_type": "display_data"
    }
   ],
   "source": [
    "model4 <- lm(retired ~ eligible + female + factor(marsth) + factor(hdgree) + factor(jobperm) + CFInc_AT\t + factor(PR1) + factor(NOC21), data = census_subset) \n",
    "summary(model4)"
   ]
  },
  {
   "cell_type": "code",
   "execution_count": 16,
   "id": "26f287f9-129a-4bc7-8c1b-12f7c64b750d",
   "metadata": {},
   "outputs": [],
   "source": [
    "iv_model <- ivreg(retired ~ eligible + female + factor(marsth) + factor(hdgree) + factor(jobperm) + CFInc_AT + factor(PR1) + factor(NOC21) | yob + female + factor(marsth) + factor(hdgree) + factor(jobperm) + CFInc_AT + factor(PR1) + factor(NOC21), data = census_subset)"
   ]
  },
  {
   "cell_type": "code",
   "execution_count": 26,
   "id": "5949d333-56a3-4b94-9ac2-f95f65976987",
   "metadata": {
    "scrolled": true
   },
   "outputs": [
    {
     "data": {
      "text/plain": [
       "\n",
       "Call:\n",
       "ivreg(formula = retired ~ eligible + female + factor(marsth) +     factor(hdgree) + factor(jobperm) + CFInc_AT + factor(PR1) +     factor(NOC21) | yob + female + factor(marsth) + factor(hdgree) +     factor(jobperm) + CFInc_AT + factor(PR1) + factor(NOC21),     data = census_subset)\n",
       "\n",
       "Coefficients:\n",
       "     (Intercept)          eligible            female   factor(marsth)2  \n",
       "       300.01331        -335.11546           0.09065         -18.58365  \n",
       " factor(marsth)3   factor(marsth)4   factor(marsth)5   factor(marsth)6  \n",
       "        -9.96248          -5.88324           0.97697         -27.72964  \n",
       " factor(hdgree)2   factor(hdgree)3   factor(hdgree)4   factor(hdgree)5  \n",
       "         6.82850           9.38389           9.53288          12.53512  \n",
       " factor(hdgree)6   factor(hdgree)7   factor(hdgree)8   factor(hdgree)9  \n",
       "        10.14418           7.66117           4.55816           1.20177  \n",
       "factor(hdgree)10  factor(hdgree)11  factor(hdgree)12  factor(hdgree)13  \n",
       "         5.64927          -1.13435          -3.74004          -0.56017  \n",
       "factor(jobperm)2  factor(jobperm)3          CFInc_AT     factor(PR1)11  \n",
       "        -4.04929         -19.00886           1.62492          16.21268  \n",
       "   factor(PR1)12     factor(PR1)13     factor(PR1)24     factor(PR1)35  \n",
       "       -14.38699         -16.55759           0.39055           6.33127  \n",
       "   factor(PR1)46     factor(PR1)47     factor(PR1)48     factor(PR1)59  \n",
       "        -2.52918         -24.81591          -3.56390          -2.26629  \n",
       "   factor(PR1)70    factor(NOC21)2    factor(NOC21)3    factor(NOC21)4  \n",
       "         9.83058          -0.70853           1.51381           0.48808  \n",
       "  factor(NOC21)5    factor(NOC21)6    factor(NOC21)7    factor(NOC21)8  \n",
       "         1.10618           0.39340           3.80866           4.31678  \n",
       "  factor(NOC21)9   factor(NOC21)10   factor(NOC21)11   factor(NOC21)12  \n",
       "        -1.78823           1.78757         -10.58946           3.60196  \n",
       " factor(NOC21)13   factor(NOC21)14   factor(NOC21)15   factor(NOC21)16  \n",
       "        -4.05450         -26.56828           4.24790          10.72671  \n",
       " factor(NOC21)17   factor(NOC21)18   factor(NOC21)19   factor(NOC21)20  \n",
       "         1.88005          -0.94868          -4.52477         -17.09606  \n",
       " factor(NOC21)21   factor(NOC21)22   factor(NOC21)23   factor(NOC21)24  \n",
       "        -0.26984          -7.14636          -5.51679          -9.61052  \n",
       " factor(NOC21)25   factor(NOC21)26  \n",
       "       -36.27826          -9.45460  \n"
      ]
     },
     "metadata": {},
     "output_type": "display_data"
    }
   ],
   "source": [
    "iv_model"
   ]
  },
  {
   "cell_type": "code",
   "execution_count": null,
   "id": "bcba1212-e89c-4eb9-9f1d-a6c3138bb006",
   "metadata": {},
   "outputs": [],
   "source": []
  }
 ],
 "metadata": {
  "kernelspec": {
   "display_name": "R",
   "language": "R",
   "name": "ir"
  },
  "language_info": {
   "codemirror_mode": "r",
   "file_extension": ".r",
   "mimetype": "text/x-r-source",
   "name": "R",
   "pygments_lexer": "r",
   "version": "4.3.3"
  }
 },
 "nbformat": 4,
 "nbformat_minor": 5
}
