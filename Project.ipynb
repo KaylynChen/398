{
 "cells": [
  {
   "cell_type": "code",
   "execution_count": 2,
   "id": "7077fdea-df15-48a3-a3ec-3a66638a1763",
   "metadata": {},
   "outputs": [
    {
     "name": "stderr",
     "output_type": "stream",
     "text": [
      "── \u001b[1mAttaching core tidyverse packages\u001b[22m ──────────────────────── tidyverse 2.0.0 ──\n",
      "\u001b[32m✔\u001b[39m \u001b[34mdplyr    \u001b[39m 1.1.4     \u001b[32m✔\u001b[39m \u001b[34mreadr    \u001b[39m 2.1.5\n",
      "\u001b[32m✔\u001b[39m \u001b[34mforcats  \u001b[39m 1.0.0     \u001b[32m✔\u001b[39m \u001b[34mstringr  \u001b[39m 1.5.1\n",
      "\u001b[32m✔\u001b[39m \u001b[34mggplot2  \u001b[39m 3.5.1     \u001b[32m✔\u001b[39m \u001b[34mtibble   \u001b[39m 3.2.1\n",
      "\u001b[32m✔\u001b[39m \u001b[34mlubridate\u001b[39m 1.9.3     \u001b[32m✔\u001b[39m \u001b[34mtidyr    \u001b[39m 1.3.1\n",
      "\u001b[32m✔\u001b[39m \u001b[34mpurrr    \u001b[39m 1.0.2     \n",
      "── \u001b[1mConflicts\u001b[22m ────────────────────────────────────────── tidyverse_conflicts() ──\n",
      "\u001b[31m✖\u001b[39m \u001b[34mdplyr\u001b[39m::\u001b[32mfilter()\u001b[39m masks \u001b[34mstats\u001b[39m::filter()\n",
      "\u001b[31m✖\u001b[39m \u001b[34mdplyr\u001b[39m::\u001b[32mlag()\u001b[39m    masks \u001b[34mstats\u001b[39m::lag()\n",
      "\u001b[36mℹ\u001b[39m Use the conflicted package (\u001b[3m\u001b[34m<http://conflicted.r-lib.org/>\u001b[39m\u001b[23m) to force all conflicts to become errors\n"
     ]
    },
    {
     "ename": "ERROR",
     "evalue": "Error in library(ivreg): there is no package called ‘ivreg’\n",
     "output_type": "error",
     "traceback": [
      "Error in library(ivreg): there is no package called ‘ivreg’\nTraceback:\n",
      "1. stop(packageNotFoundError(package, lib.loc, sys.call()))"
     ]
    }
   ],
   "source": [
    "library(tidyverse)\n",
    "library(haven)\n",
    "library(ivreg)"
   ]
  },
  {
   "cell_type": "code",
   "execution_count": 4,
   "id": "6616ea20-3dad-4cb4-aee2-badd51105529",
   "metadata": {},
   "outputs": [],
   "source": [
    "census_data <- read_dta('cen_ind_2021_pumf_v2 2.dta')"
   ]
  },
  {
   "cell_type": "code",
   "execution_count": 14,
   "id": "c4b89d86-7b5e-4831-89f9-408ab65d7acb",
   "metadata": {},
   "outputs": [
    {
     "data": {
      "text/html": [
       "<table class=\"dataframe\">\n",
       "<caption>A tibble: 1 × 36</caption>\n",
       "<thead>\n",
       "\t<tr><th scope=col>agegrp_mean</th><th scope=col>agegrp_sd</th><th scope=col>agegrp_min</th><th scope=col>agegrp_max</th><th scope=col>yrim_mean</th><th scope=col>yrim_sd</th><th scope=col>yrim_min</th><th scope=col>yrim_max</th><th scope=col>lfact_mean</th><th scope=col>lfact_sd</th><th scope=col>⋯</th><th scope=col>CFInc_AT_min</th><th scope=col>CFInc_AT_max</th><th scope=col>PR1_mean</th><th scope=col>PR1_sd</th><th scope=col>PR1_min</th><th scope=col>PR1_max</th><th scope=col>NOC21_mean</th><th scope=col>NOC21_sd</th><th scope=col>NOC21_min</th><th scope=col>NOC21_max</th></tr>\n",
       "\t<tr><th scope=col>&lt;dbl&gt;</th><th scope=col>&lt;dbl&gt;</th><th scope=col>&lt;dbl+lbl&gt;</th><th scope=col>&lt;dbl+lbl&gt;</th><th scope=col>&lt;dbl&gt;</th><th scope=col>&lt;dbl&gt;</th><th scope=col>&lt;dbl+lbl&gt;</th><th scope=col>&lt;dbl+lbl&gt;</th><th scope=col>&lt;dbl&gt;</th><th scope=col>&lt;dbl&gt;</th><th scope=col>⋯</th><th scope=col>&lt;dbl+lbl&gt;</th><th scope=col>&lt;dbl+lbl&gt;</th><th scope=col>&lt;dbl&gt;</th><th scope=col>&lt;dbl&gt;</th><th scope=col>&lt;dbl+lbl&gt;</th><th scope=col>&lt;dbl+lbl&gt;</th><th scope=col>&lt;dbl&gt;</th><th scope=col>&lt;dbl&gt;</th><th scope=col>&lt;dbl+lbl&gt;</th><th scope=col>&lt;dbl+lbl&gt;</th></tr>\n",
       "</thead>\n",
       "<tbody>\n",
       "\t<tr><td>11.36212</td><td>5.217992</td><td>1</td><td>21</td><td>7992.141</td><td>3702.859</td><td>1</td><td>9999</td><td>21.24788</td><td>35.09513</td><td>⋯</td><td>1</td><td>88</td><td>37.7443</td><td>15.38871</td><td>10</td><td>99</td><td>51.44171</td><td>42.80216</td><td>1</td><td>99</td></tr>\n",
       "</tbody>\n",
       "</table>\n"
      ],
      "text/latex": [
       "A tibble: 1 × 36\n",
       "\\begin{tabular}{lllllllllllllllllllll}\n",
       " agegrp\\_mean & agegrp\\_sd & agegrp\\_min & agegrp\\_max & yrim\\_mean & yrim\\_sd & yrim\\_min & yrim\\_max & lfact\\_mean & lfact\\_sd & ⋯ & CFInc\\_AT\\_min & CFInc\\_AT\\_max & PR1\\_mean & PR1\\_sd & PR1\\_min & PR1\\_max & NOC21\\_mean & NOC21\\_sd & NOC21\\_min & NOC21\\_max\\\\\n",
       " <dbl> & <dbl> & <dbl+lbl> & <dbl+lbl> & <dbl> & <dbl> & <dbl+lbl> & <dbl+lbl> & <dbl> & <dbl> & ⋯ & <dbl+lbl> & <dbl+lbl> & <dbl> & <dbl> & <dbl+lbl> & <dbl+lbl> & <dbl> & <dbl> & <dbl+lbl> & <dbl+lbl>\\\\\n",
       "\\hline\n",
       "\t 11.36212 & 5.217992 & 1 & 21 & 7992.141 & 3702.859 & 1 & 9999 & 21.24788 & 35.09513 & ⋯ & 1 & 88 & 37.7443 & 15.38871 & 10 & 99 & 51.44171 & 42.80216 & 1 & 99\\\\\n",
       "\\end{tabular}\n"
      ],
      "text/markdown": [
       "\n",
       "A tibble: 1 × 36\n",
       "\n",
       "| agegrp_mean &lt;dbl&gt; | agegrp_sd &lt;dbl&gt; | agegrp_min &lt;dbl+lbl&gt; | agegrp_max &lt;dbl+lbl&gt; | yrim_mean &lt;dbl&gt; | yrim_sd &lt;dbl&gt; | yrim_min &lt;dbl+lbl&gt; | yrim_max &lt;dbl+lbl&gt; | lfact_mean &lt;dbl&gt; | lfact_sd &lt;dbl&gt; | ⋯ ⋯ | CFInc_AT_min &lt;dbl+lbl&gt; | CFInc_AT_max &lt;dbl+lbl&gt; | PR1_mean &lt;dbl&gt; | PR1_sd &lt;dbl&gt; | PR1_min &lt;dbl+lbl&gt; | PR1_max &lt;dbl+lbl&gt; | NOC21_mean &lt;dbl&gt; | NOC21_sd &lt;dbl&gt; | NOC21_min &lt;dbl+lbl&gt; | NOC21_max &lt;dbl+lbl&gt; |\n",
       "|---|---|---|---|---|---|---|---|---|---|---|---|---|---|---|---|---|---|---|---|---|\n",
       "| 11.36212 | 5.217992 | 1 | 21 | 7992.141 | 3702.859 | 1 | 9999 | 21.24788 | 35.09513 | ⋯ | 1 | 88 | 37.7443 | 15.38871 | 10 | 99 | 51.44171 | 42.80216 | 1 | 99 |\n",
       "\n"
      ],
      "text/plain": [
       "  agegrp_mean agegrp_sd agegrp_min agegrp_max yrim_mean yrim_sd  yrim_min\n",
       "1 11.36212    5.217992  1          21         7992.141  3702.859 1       \n",
       "  yrim_max lfact_mean lfact_sd ⋯ CFInc_AT_min CFInc_AT_max PR1_mean PR1_sd  \n",
       "1 9999     21.24788   35.09513 ⋯ 1            88           37.7443  15.38871\n",
       "  PR1_min PR1_max NOC21_mean NOC21_sd NOC21_min NOC21_max\n",
       "1 10      99      51.44171   42.80216 1         99       "
      ]
     },
     "metadata": {},
     "output_type": "display_data"
    }
   ],
   "source": [
    "statistic <- census_data |> select(agegrp, yrim, lfact, marsth, hdgree, jobperm,CFInc_AT, PR1, NOC21) |> \n",
    "    filter(agegrp != 88) |> \n",
    "    filter(agegrp != 88) |>\n",
    "    filter(agegrp != 88) |>\n",
    "    filter(agegrp != 88) |>\n",
    "    filter(agegrp != 88) |>\n",
    "    filter(agegrp != 88) |>\n",
    "  summarise(\n",
    "    across(everything(),\n",
    "      list(\n",
    "        mean = ~ mean(.x, na.rm = TRUE),\n",
    "        sd   = ~ sd(.x, na.rm = TRUE),\n",
    "        min  = ~ min(.x, na.rm = TRUE),\n",
    "        max  = ~ max(.x, na.rm = TRUE)\n",
    "      )\n",
    "    )\n",
    "  )\n",
    "head(statistic)"
   ]
  },
  {
   "cell_type": "code",
   "execution_count": 34,
   "id": "577c5e03-eca0-443a-9cd2-5ecc1445bfb8",
   "metadata": {},
   "outputs": [
    {
     "data": {
      "text/html": [
       "<table class=\"dataframe\">\n",
       "<caption>A tibble: 6 × 147</caption>\n",
       "<thead>\n",
       "\t<tr><th scope=col>ppsort</th><th scope=col>aboid</th><th scope=col>agegrp</th><th scope=col>ageimm</th><th scope=col>attsch</th><th scope=col>bfnmemb</th><th scope=col>bedrm</th><th scope=col>CFInc</th><th scope=col>CFInc_AT</th><th scope=col>cfstat</th><th scope=col>⋯</th><th scope=col>WT10</th><th scope=col>WT11</th><th scope=col>WT12</th><th scope=col>WT13</th><th scope=col>WT14</th><th scope=col>WT15</th><th scope=col>WT16</th><th scope=col>rand</th><th scope=col>retired</th><th scope=col>female</th></tr>\n",
       "\t<tr><th scope=col>&lt;dbl&gt;</th><th scope=col>&lt;dbl+lbl&gt;</th><th scope=col>&lt;dbl+lbl&gt;</th><th scope=col>&lt;dbl+lbl&gt;</th><th scope=col>&lt;dbl+lbl&gt;</th><th scope=col>&lt;dbl+lbl&gt;</th><th scope=col>&lt;dbl+lbl&gt;</th><th scope=col>&lt;dbl+lbl&gt;</th><th scope=col>&lt;dbl+lbl&gt;</th><th scope=col>&lt;dbl+lbl&gt;</th><th scope=col>⋯</th><th scope=col>&lt;dbl&gt;</th><th scope=col>&lt;dbl&gt;</th><th scope=col>&lt;dbl&gt;</th><th scope=col>&lt;dbl&gt;</th><th scope=col>&lt;dbl&gt;</th><th scope=col>&lt;dbl&gt;</th><th scope=col>&lt;dbl&gt;</th><th scope=col>&lt;dbl&gt;</th><th scope=col>&lt;dbl&gt;</th><th scope=col>&lt;dbl&gt;</th></tr>\n",
       "</thead>\n",
       "<tbody>\n",
       "\t<tr><td> 897</td><td>6</td><td>16</td><td>99</td><td>1</td><td>0</td><td>3</td><td>26</td><td>25</td><td>2</td><td>⋯</td><td>22.89379</td><td>22.89379</td><td>22.89379</td><td> 22.89379</td><td> 22.89379</td><td>22.89379</td><td>22.89379</td><td>2.129959</td><td>1</td><td>1</td></tr>\n",
       "\t<tr><td> 977</td><td>6</td><td>17</td><td> 1</td><td>1</td><td>0</td><td>5</td><td>11</td><td>10</td><td>7</td><td>⋯</td><td>22.89379</td><td>22.89379</td><td>22.89379</td><td> 22.89379</td><td>249.19883</td><td>22.89379</td><td>22.89379</td><td>2.006523</td><td>1</td><td>0</td></tr>\n",
       "\t<tr><td>1640</td><td>6</td><td>16</td><td>99</td><td>1</td><td>0</td><td>5</td><td>25</td><td>22</td><td>1</td><td>⋯</td><td>22.90134</td><td>22.90134</td><td>22.90134</td><td> 22.90134</td><td> 22.90134</td><td>22.90134</td><td>22.90134</td><td>2.060246</td><td>0</td><td>0</td></tr>\n",
       "\t<tr><td>2362</td><td>6</td><td>17</td><td>99</td><td>1</td><td>0</td><td>2</td><td> 9</td><td> 9</td><td>7</td><td>⋯</td><td>22.89379</td><td>22.89379</td><td>22.89379</td><td> 22.89379</td><td> 22.89379</td><td>22.89379</td><td>22.89379</td><td>2.596228</td><td>1</td><td>1</td></tr>\n",
       "\t<tr><td>2452</td><td>6</td><td>16</td><td> 5</td><td>1</td><td>0</td><td>4</td><td>18</td><td>17</td><td>2</td><td>⋯</td><td>22.89379</td><td>22.89379</td><td>22.89379</td><td> 22.89379</td><td> 22.89379</td><td>22.89379</td><td>22.89379</td><td>2.890442</td><td>0</td><td>0</td></tr>\n",
       "\t<tr><td>2539</td><td>6</td><td>16</td><td>99</td><td>1</td><td>0</td><td>2</td><td>22</td><td>19</td><td>6</td><td>⋯</td><td>22.89379</td><td>22.89379</td><td>22.89379</td><td>249.19883</td><td> 22.89379</td><td>22.89379</td><td>22.89379</td><td>2.203408</td><td>0</td><td>0</td></tr>\n",
       "</tbody>\n",
       "</table>\n"
      ],
      "text/latex": [
       "A tibble: 6 × 147\n",
       "\\begin{tabular}{lllllllllllllllllllll}\n",
       " ppsort & aboid & agegrp & ageimm & attsch & bfnmemb & bedrm & CFInc & CFInc\\_AT & cfstat & ⋯ & WT10 & WT11 & WT12 & WT13 & WT14 & WT15 & WT16 & rand & retired & female\\\\\n",
       " <dbl> & <dbl+lbl> & <dbl+lbl> & <dbl+lbl> & <dbl+lbl> & <dbl+lbl> & <dbl+lbl> & <dbl+lbl> & <dbl+lbl> & <dbl+lbl> & ⋯ & <dbl> & <dbl> & <dbl> & <dbl> & <dbl> & <dbl> & <dbl> & <dbl> & <dbl> & <dbl>\\\\\n",
       "\\hline\n",
       "\t  897 & 6 & 16 & 99 & 1 & 0 & 3 & 26 & 25 & 2 & ⋯ & 22.89379 & 22.89379 & 22.89379 &  22.89379 &  22.89379 & 22.89379 & 22.89379 & 2.129959 & 1 & 1\\\\\n",
       "\t  977 & 6 & 17 &  1 & 1 & 0 & 5 & 11 & 10 & 7 & ⋯ & 22.89379 & 22.89379 & 22.89379 &  22.89379 & 249.19883 & 22.89379 & 22.89379 & 2.006523 & 1 & 0\\\\\n",
       "\t 1640 & 6 & 16 & 99 & 1 & 0 & 5 & 25 & 22 & 1 & ⋯ & 22.90134 & 22.90134 & 22.90134 &  22.90134 &  22.90134 & 22.90134 & 22.90134 & 2.060246 & 0 & 0\\\\\n",
       "\t 2362 & 6 & 17 & 99 & 1 & 0 & 2 &  9 &  9 & 7 & ⋯ & 22.89379 & 22.89379 & 22.89379 &  22.89379 &  22.89379 & 22.89379 & 22.89379 & 2.596228 & 1 & 1\\\\\n",
       "\t 2452 & 6 & 16 &  5 & 1 & 0 & 4 & 18 & 17 & 2 & ⋯ & 22.89379 & 22.89379 & 22.89379 &  22.89379 &  22.89379 & 22.89379 & 22.89379 & 2.890442 & 0 & 0\\\\\n",
       "\t 2539 & 6 & 16 & 99 & 1 & 0 & 2 & 22 & 19 & 6 & ⋯ & 22.89379 & 22.89379 & 22.89379 & 249.19883 &  22.89379 & 22.89379 & 22.89379 & 2.203408 & 0 & 0\\\\\n",
       "\\end{tabular}\n"
      ],
      "text/markdown": [
       "\n",
       "A tibble: 6 × 147\n",
       "\n",
       "| ppsort &lt;dbl&gt; | aboid &lt;dbl+lbl&gt; | agegrp &lt;dbl+lbl&gt; | ageimm &lt;dbl+lbl&gt; | attsch &lt;dbl+lbl&gt; | bfnmemb &lt;dbl+lbl&gt; | bedrm &lt;dbl+lbl&gt; | CFInc &lt;dbl+lbl&gt; | CFInc_AT &lt;dbl+lbl&gt; | cfstat &lt;dbl+lbl&gt; | ⋯ ⋯ | WT10 &lt;dbl&gt; | WT11 &lt;dbl&gt; | WT12 &lt;dbl&gt; | WT13 &lt;dbl&gt; | WT14 &lt;dbl&gt; | WT15 &lt;dbl&gt; | WT16 &lt;dbl&gt; | rand &lt;dbl&gt; | retired &lt;dbl&gt; | female &lt;dbl&gt; |\n",
       "|---|---|---|---|---|---|---|---|---|---|---|---|---|---|---|---|---|---|---|---|---|\n",
       "|  897 | 6 | 16 | 99 | 1 | 0 | 3 | 26 | 25 | 2 | ⋯ | 22.89379 | 22.89379 | 22.89379 |  22.89379 |  22.89379 | 22.89379 | 22.89379 | 2.129959 | 1 | 1 |\n",
       "|  977 | 6 | 17 |  1 | 1 | 0 | 5 | 11 | 10 | 7 | ⋯ | 22.89379 | 22.89379 | 22.89379 |  22.89379 | 249.19883 | 22.89379 | 22.89379 | 2.006523 | 1 | 0 |\n",
       "| 1640 | 6 | 16 | 99 | 1 | 0 | 5 | 25 | 22 | 1 | ⋯ | 22.90134 | 22.90134 | 22.90134 |  22.90134 |  22.90134 | 22.90134 | 22.90134 | 2.060246 | 0 | 0 |\n",
       "| 2362 | 6 | 17 | 99 | 1 | 0 | 2 |  9 |  9 | 7 | ⋯ | 22.89379 | 22.89379 | 22.89379 |  22.89379 |  22.89379 | 22.89379 | 22.89379 | 2.596228 | 1 | 1 |\n",
       "| 2452 | 6 | 16 |  5 | 1 | 0 | 4 | 18 | 17 | 2 | ⋯ | 22.89379 | 22.89379 | 22.89379 |  22.89379 |  22.89379 | 22.89379 | 22.89379 | 2.890442 | 0 | 0 |\n",
       "| 2539 | 6 | 16 | 99 | 1 | 0 | 2 | 22 | 19 | 6 | ⋯ | 22.89379 | 22.89379 | 22.89379 | 249.19883 |  22.89379 | 22.89379 | 22.89379 | 2.203408 | 0 | 0 |\n",
       "\n"
      ],
      "text/plain": [
       "  ppsort aboid agegrp ageimm attsch bfnmemb bedrm CFInc CFInc_AT cfstat ⋯\n",
       "1  897   6     16     99     1      0       3     26    25       2      ⋯\n",
       "2  977   6     17      1     1      0       5     11    10       7      ⋯\n",
       "3 1640   6     16     99     1      0       5     25    22       1      ⋯\n",
       "4 2362   6     17     99     1      0       2      9     9       7      ⋯\n",
       "5 2452   6     16      5     1      0       4     18    17       2      ⋯\n",
       "6 2539   6     16     99     1      0       2     22    19       6      ⋯\n",
       "  WT10     WT11     WT12     WT13      WT14      WT15     WT16     rand    \n",
       "1 22.89379 22.89379 22.89379  22.89379  22.89379 22.89379 22.89379 2.129959\n",
       "2 22.89379 22.89379 22.89379  22.89379 249.19883 22.89379 22.89379 2.006523\n",
       "3 22.90134 22.90134 22.90134  22.90134  22.90134 22.90134 22.90134 2.060246\n",
       "4 22.89379 22.89379 22.89379  22.89379  22.89379 22.89379 22.89379 2.596228\n",
       "5 22.89379 22.89379 22.89379  22.89379  22.89379 22.89379 22.89379 2.890442\n",
       "6 22.89379 22.89379 22.89379 249.19883  22.89379 22.89379 22.89379 2.203408\n",
       "  retired female\n",
       "1 1       1     \n",
       "2 1       0     \n",
       "3 0       0     \n",
       "4 1       1     \n",
       "5 0       0     \n",
       "6 0       0     "
      ]
     },
     "metadata": {},
     "output_type": "display_data"
    }
   ],
   "source": [
    "census_subset <- census_data %>% filter(agegrp == 16 | agegrp == 17 ) |>\n",
    "    mutate(retired = ifelse(lfact %in% c(11,12,13), 1, 0)) |>\n",
    "    mutate(female = ifelse(Gender == 1, 1, 0))\n",
    "head(census_subset)"
   ]
  },
  {
   "cell_type": "code",
   "execution_count": 16,
   "id": "03e45724-fe8d-48ef-8729-8fdfef8e9336",
   "metadata": {},
   "outputs": [
    {
     "ename": "ERROR",
     "evalue": "Error: object 'census_subset' not found\n",
     "output_type": "error",
     "traceback": [
      "Error: object 'census_subset' not found\nTraceback:\n",
      "1. .handleSimpleError(function (cnd) \n . {\n .     watcher$capture_plot_and_output()\n .     cnd <- sanitize_call(cnd)\n .     watcher$push(cnd)\n .     switch(on_error, continue = invokeRestart(\"eval_continue\"), \n .         stop = invokeRestart(\"eval_stop\"), error = NULL)\n . }, \"object 'census_subset' not found\", base::quote(eval(expr, \n .     envir)))"
     ]
    }
   ],
   "source": [
    "census_subset <- census_subset |>\n",
    "mutate(eligible = ifelse((agegrp == 17 & immstat == 1) | ((immstat %in% c(2, 3)) & (2021 - yrim) >= 10), 1, 0))\n",
    "head(census_subset)"
   ]
  },
  {
   "cell_type": "code",
   "execution_count": 42,
   "id": "2ed6ff0c-460a-4bf0-9d35-cb649f8fe199",
   "metadata": {},
   "outputs": [
    {
     "data": {
      "text/plain": [
       "\n",
       "Call:\n",
       "lm(formula = retired ~ eligible, data = census_subset)\n",
       "\n",
       "Residuals:\n",
       "    Min      1Q  Median      3Q     Max \n",
       "-0.6492 -0.3891  0.3508  0.3508  0.6109 \n",
       "\n",
       "Coefficients:\n",
       "            Estimate Std. Error t value Pr(>|t|)    \n",
       "(Intercept)  0.38912    0.01174   33.13   <2e-16 ***\n",
       "eligible     0.26013    0.01721   15.12   <2e-16 ***\n",
       "---\n",
       "Signif. codes:  0 ‘***’ 0.001 ‘**’ 0.01 ‘*’ 0.05 ‘.’ 0.1 ‘ ’ 1\n",
       "\n",
       "Residual standard error: 0.4829 on 3163 degrees of freedom\n",
       "Multiple R-squared:  0.06738,\tAdjusted R-squared:  0.06709 \n",
       "F-statistic: 228.5 on 1 and 3163 DF,  p-value: < 2.2e-16\n"
      ]
     },
     "metadata": {},
     "output_type": "display_data"
    }
   ],
   "source": [
    "model1 <- lm(retired ~ eligible, data = census_subset) \n",
    "summary(model1)"
   ]
  },
  {
   "cell_type": "code",
   "execution_count": 46,
   "id": "67410060-faab-48b5-b22b-dac029267f03",
   "metadata": {},
   "outputs": [
    {
     "data": {
      "text/plain": [
       "\n",
       "Call:\n",
       "lm(formula = retired ~ eligible + female + factor(marsth), data = census_subset)\n",
       "\n",
       "Residuals:\n",
       "    Min      1Q  Median      3Q     Max \n",
       "-0.7782 -0.4464  0.2218  0.4289  0.7086 \n",
       "\n",
       "Coefficients:\n",
       "                Estimate Std. Error t value Pr(>|t|)    \n",
       "(Intercept)      0.34922    0.02959  11.803  < 2e-16 ***\n",
       "eligible         0.25640    0.01713  14.968  < 2e-16 ***\n",
       "female           0.13170    0.01717   7.671 2.26e-14 ***\n",
       "factor(marsth)2 -0.03449    0.02977  -1.159    0.247    \n",
       "factor(marsth)3 -0.02078    0.03878  -0.536    0.592    \n",
       "factor(marsth)4  0.03096    0.05655   0.547    0.584    \n",
       "factor(marsth)5 -0.05786    0.03737  -1.548    0.122    \n",
       "factor(marsth)6  0.04083    0.04614   0.885    0.376    \n",
       "factor(marsth)8  0.02258    0.24085   0.094    0.925    \n",
       "---\n",
       "Signif. codes:  0 ‘***’ 0.001 ‘**’ 0.01 ‘*’ 0.05 ‘.’ 0.1 ‘ ’ 1\n",
       "\n",
       "Residual standard error: 0.4782 on 3156 degrees of freedom\n",
       "Multiple R-squared:  0.08749,\tAdjusted R-squared:  0.08518 \n",
       "F-statistic: 37.83 on 8 and 3156 DF,  p-value: < 2.2e-16\n"
      ]
     },
     "metadata": {},
     "output_type": "display_data"
    }
   ],
   "source": [
    "model2 <- lm(retired ~ eligible + female + factor(marsth), data = census_subset) \n",
    "summary(model2)"
   ]
  },
  {
   "cell_type": "code",
   "execution_count": 49,
   "id": "b977dc2e-8e32-4308-8a86-89709a0313ab",
   "metadata": {},
   "outputs": [
    {
     "data": {
      "text/plain": [
       "\n",
       "Call:\n",
       "lm(formula = retired ~ eligible + female + factor(marsth) + factor(hdgree) + \n",
       "    factor(jobperm), data = census_subset)\n",
       "\n",
       "Residuals:\n",
       "    Min      1Q  Median      3Q     Max \n",
       "-0.9482 -0.1454  0.0486  0.1493  0.9713 \n",
       "\n",
       "Coefficients:\n",
       "                  Estimate Std. Error t value Pr(>|t|)    \n",
       "(Intercept)       0.028698   0.030830   0.931   0.3520    \n",
       "eligible          0.097518   0.012979   7.513 7.47e-14 ***\n",
       "female            0.032446   0.013016   2.493   0.0127 *  \n",
       "factor(marsth)2   0.036613   0.021931   1.669   0.0951 .  \n",
       "factor(marsth)3   0.035689   0.028501   1.252   0.2106    \n",
       "factor(marsth)4   0.034313   0.041631   0.824   0.4099    \n",
       "factor(marsth)5   0.016925   0.027448   0.617   0.5375    \n",
       "factor(marsth)6   0.036355   0.033897   1.073   0.2836    \n",
       "factor(marsth)8   0.043338   0.176603   0.245   0.8062    \n",
       "factor(hdgree)2   0.031754   0.019161   1.657   0.0976 .  \n",
       "factor(hdgree)3   0.021671   0.030722   0.705   0.4806    \n",
       "factor(hdgree)4   0.080648   0.034911   2.310   0.0209 *  \n",
       "factor(hdgree)5   0.043497   0.037472   1.161   0.2458    \n",
       "factor(hdgree)6   0.039202   0.025953   1.511   0.1310    \n",
       "factor(hdgree)7   0.071105   0.027745   2.563   0.0104 *  \n",
       "factor(hdgree)8   0.019114   0.039088   0.489   0.6249    \n",
       "factor(hdgree)9   0.042930   0.023089   1.859   0.0631 .  \n",
       "factor(hdgree)10  0.032348   0.057023   0.567   0.5706    \n",
       "factor(hdgree)11 -0.032520   0.078532  -0.414   0.6788    \n",
       "factor(hdgree)12  0.015967   0.034170   0.467   0.6403    \n",
       "factor(hdgree)13  0.004608   0.069437   0.066   0.9471    \n",
       "factor(hdgree)88 -0.099305   0.112214  -0.885   0.3762    \n",
       "factor(jobperm)2  0.004694   0.021361   0.220   0.8261    \n",
       "factor(jobperm)3  0.176163   0.028819   6.113 1.10e-09 ***\n",
       "factor(jobperm)8  0.859313   0.351299   2.446   0.0145 *  \n",
       "factor(jobperm)9  0.704707   0.020723  34.007  < 2e-16 ***\n",
       "---\n",
       "Signif. codes:  0 ‘***’ 0.001 ‘**’ 0.01 ‘*’ 0.05 ‘.’ 0.1 ‘ ’ 1\n",
       "\n",
       "Residual standard error: 0.3503 on 3139 degrees of freedom\n",
       "Multiple R-squared:  0.5129,\tAdjusted R-squared:  0.509 \n",
       "F-statistic: 132.2 on 25 and 3139 DF,  p-value: < 2.2e-16\n"
      ]
     },
     "metadata": {},
     "output_type": "display_data"
    }
   ],
   "source": [
    "model3 <- lm(retired ~ eligible + female + factor(marsth) + factor(hdgree) + factor(jobperm), data = census_subset) \n",
    "summary(model3)"
   ]
  },
  {
   "cell_type": "code",
   "execution_count": 54,
   "id": "d35061b7-a097-4ca8-bbe4-cc80ca8a25f9",
   "metadata": {},
   "outputs": [
    {
     "data": {
      "text/plain": [
       "\n",
       "Call:\n",
       "lm(formula = retired ~ eligible + female + factor(marsth) + factor(hdgree) + \n",
       "    factor(jobperm) + CFInc_AT + factor(PR1) + factor(NOC21), \n",
       "    data = census_subset)\n",
       "\n",
       "Residuals:\n",
       "     Min       1Q   Median       3Q      Max \n",
       "-0.96916 -0.15909  0.03059  0.14422  0.99506 \n",
       "\n",
       "Coefficients: (1 not defined because of singularities)\n",
       "                   Estimate Std. Error t value Pr(>|t|)    \n",
       "(Intercept)      -0.0830365  0.0881398  -0.942   0.3462    \n",
       "eligible          0.0983987  0.0130428   7.544 5.94e-14 ***\n",
       "female            0.0340382  0.0140600   2.421   0.0155 *  \n",
       "factor(marsth)2   0.0570732  0.0235901   2.419   0.0156 *  \n",
       "factor(marsth)3   0.0640263  0.0298580   2.144   0.0321 *  \n",
       "factor(marsth)4   0.0370806  0.0421237   0.880   0.3788    \n",
       "factor(marsth)5   0.0179733  0.0276238   0.651   0.5153    \n",
       "factor(marsth)6   0.0404460  0.0342130   1.182   0.2372    \n",
       "factor(marsth)8   0.0318543  0.1769469   0.180   0.8571    \n",
       "factor(hdgree)2   0.0367935  0.0194551   1.891   0.0587 .  \n",
       "factor(hdgree)3   0.0379629  0.0311853   1.217   0.2236    \n",
       "factor(hdgree)4   0.0824218  0.0360456   2.287   0.0223 *  \n",
       "factor(hdgree)5   0.0437152  0.0378999   1.153   0.2488    \n",
       "factor(hdgree)6   0.0438896  0.0264962   1.656   0.0977 .  \n",
       "factor(hdgree)7   0.0914842  0.0284145   3.220   0.0013 ** \n",
       "factor(hdgree)8   0.0355995  0.0399660   0.891   0.3731    \n",
       "factor(hdgree)9   0.0537001  0.0243668   2.204   0.0276 *  \n",
       "factor(hdgree)10  0.0426176  0.0581228   0.733   0.4635    \n",
       "factor(hdgree)11  0.0747416  0.0881301   0.848   0.3965    \n",
       "factor(hdgree)12  0.0246518  0.0362991   0.679   0.4971    \n",
       "factor(hdgree)13  0.0087676  0.0722910   0.121   0.9035    \n",
       "factor(hdgree)88 -0.0659041  0.1136237  -0.580   0.5619    \n",
       "factor(jobperm)2  0.0107290  0.0225483   0.476   0.6342    \n",
       "factor(jobperm)3  0.1679329  0.0300484   5.589 2.49e-08 ***\n",
       "factor(jobperm)8  0.6669426  0.3757106   1.775   0.0760 .  \n",
       "factor(jobperm)9  0.8049895  0.0694624  11.589  < 2e-16 ***\n",
       "CFInc_AT         -0.0023140  0.0009459  -2.446   0.0145 *  \n",
       "factor(PR1)11     0.0542345  0.1260238   0.430   0.6670    \n",
       "factor(PR1)12     0.0316863  0.0604921   0.524   0.6004    \n",
       "factor(PR1)13     0.0227905  0.0610365   0.373   0.7089    \n",
       "factor(PR1)24    -0.0005926  0.0483468  -0.012   0.9902    \n",
       "factor(PR1)35     0.0309694  0.0475843   0.651   0.5152    \n",
       "factor(PR1)46     0.0837206  0.0586434   1.428   0.1535    \n",
       "factor(PR1)47     0.0126422  0.0597224   0.212   0.8324    \n",
       "factor(PR1)48     0.0394065  0.0507835   0.776   0.4378    \n",
       "factor(PR1)59     0.0440410  0.0492374   0.894   0.3711    \n",
       "factor(PR1)70     0.1560063  0.1510485   1.033   0.3018    \n",
       "factor(PR1)88     0.1483403  0.1337100   1.109   0.2673    \n",
       "factor(PR1)99    -0.1474844  0.1266509  -1.164   0.2443    \n",
       "factor(NOC21)2    0.1088839  0.0721326   1.509   0.1313    \n",
       "factor(NOC21)3    0.1110391  0.0823045   1.349   0.1774    \n",
       "factor(NOC21)4    0.0707817  0.0835665   0.847   0.3971    \n",
       "factor(NOC21)5    0.0811737  0.0780915   1.039   0.2987    \n",
       "factor(NOC21)6    0.0916714  0.0771115   1.189   0.2346    \n",
       "factor(NOC21)7    0.1290113  0.0819700   1.574   0.1156    \n",
       "factor(NOC21)8   -0.0107293  0.0940013  -0.114   0.9091    \n",
       "factor(NOC21)9   -0.0170928  0.0854941  -0.200   0.8415    \n",
       "factor(NOC21)10   0.1551886  0.1160358   1.337   0.1812    \n",
       "factor(NOC21)11   0.1747330  0.0874553   1.998   0.0458 *  \n",
       "factor(NOC21)12   0.1483541  0.0766434   1.936   0.0530 .  \n",
       "factor(NOC21)13   0.2325481  0.0929906   2.501   0.0124 *  \n",
       "factor(NOC21)14   0.0832343  0.0938573   0.887   0.3752    \n",
       "factor(NOC21)15   0.0432399  0.0970212   0.446   0.6559    \n",
       "factor(NOC21)16   0.1779758  0.1159416   1.535   0.1249    \n",
       "factor(NOC21)17   0.0360479  0.0982910   0.367   0.7138    \n",
       "factor(NOC21)18   0.0624120  0.0871802   0.716   0.4741    \n",
       "factor(NOC21)19   0.1173038  0.0758150   1.547   0.1219    \n",
       "factor(NOC21)20   0.0952321  0.0747775   1.274   0.2029    \n",
       "factor(NOC21)21   0.0999200  0.0751114   1.330   0.1835    \n",
       "factor(NOC21)22   0.1041864  0.0736735   1.414   0.1574    \n",
       "factor(NOC21)23   0.0602035  0.1299122   0.463   0.6431    \n",
       "factor(NOC21)24   0.1963254  0.0837169   2.345   0.0191 *  \n",
       "factor(NOC21)25   0.1751518  0.0903871   1.938   0.0527 .  \n",
       "factor(NOC21)26   0.1120096  0.0793516   1.412   0.1582    \n",
       "factor(NOC21)88   0.1622805  0.0851645   1.905   0.0568 .  \n",
       "factor(NOC21)99          NA         NA      NA       NA    \n",
       "---\n",
       "Signif. codes:  0 ‘***’ 0.001 ‘**’ 0.01 ‘*’ 0.05 ‘.’ 0.1 ‘ ’ 1\n",
       "\n",
       "Residual standard error: 0.3499 on 3100 degrees of freedom\n",
       "Multiple R-squared:  0.5201,\tAdjusted R-squared:  0.5102 \n",
       "F-statistic:  52.5 on 64 and 3100 DF,  p-value: < 2.2e-16\n"
      ]
     },
     "metadata": {},
     "output_type": "display_data"
    }
   ],
   "source": [
    "model4 <- lm(retired ~ eligible + female + factor(marsth) + factor(hdgree) + factor(jobperm) + CFInc_AT\t + factor(PR1) + factor(NOC21), data = census_subset) \n",
    "summary(model4)"
   ]
  },
  {
   "cell_type": "code",
   "execution_count": 66,
   "id": "ef848a65-288c-419d-bcd6-80579ba7f083",
   "metadata": {},
   "outputs": [],
   "source": [
    "census_subset <- census_subset %>% mutate(yob = 2021 - agegrp)"
   ]
  },
  {
   "cell_type": "code",
   "execution_count": 67,
   "id": "26f287f9-129a-4bc7-8c1b-12f7c64b750d",
   "metadata": {},
   "outputs": [],
   "source": [
    "iv_model <- ivreg(retired ~ eligible + female + factor(marsth) + factor(hdgree) + factor(jobperm) + CFInc_AT + factor(PR1) + factor(NOC21) | yob + female + factor(marsth) + factor(hdgree) + factor(jobperm) + CFInc_AT + factor(PR1) + factor(NOC21), data = census_subset)"
   ]
  },
  {
   "cell_type": "code",
   "execution_count": 69,
   "id": "5949d333-56a3-4b94-9ac2-f95f65976987",
   "metadata": {
    "scrolled": true
   },
   "outputs": [
    {
     "data": {
      "text/plain": [
       "\n",
       "Call:\n",
       "ivreg(formula = retired ~ eligible + female + factor(marsth) +     factor(hdgree) + factor(jobperm) + CFInc_AT + factor(PR1) +     factor(NOC21) | yob + female + factor(marsth) + factor(hdgree) +     factor(jobperm) + CFInc_AT + factor(PR1) + factor(NOC21),     data = census_subset)\n",
       "\n",
       "Coefficients:\n",
       "     (Intercept)          eligible            female   factor(marsth)2  \n",
       "       -0.083147          0.098832          0.034041          0.057025  \n",
       " factor(marsth)3   factor(marsth)4   factor(marsth)5   factor(marsth)6  \n",
       "        0.064001          0.037091          0.017913          0.040350  \n",
       " factor(marsth)8   factor(hdgree)2   factor(hdgree)3   factor(hdgree)4  \n",
       "        0.031796          0.036791          0.037951          0.082389  \n",
       " factor(hdgree)5   factor(hdgree)6   factor(hdgree)7   factor(hdgree)8  \n",
       "        0.043700          0.043897          0.091479          0.035561  \n",
       " factor(hdgree)9  factor(hdgree)10  factor(hdgree)11  factor(hdgree)12  \n",
       "        0.053684          0.042684          0.074703          0.024639  \n",
       "factor(hdgree)13  factor(hdgree)88  factor(jobperm)2  factor(jobperm)3  \n",
       "        0.008726         -0.066061          0.010768          0.167921  \n",
       "factor(jobperm)8  factor(jobperm)9          CFInc_AT     factor(PR1)11  \n",
       "        0.666996          0.804904         -0.002314          0.054192  \n",
       "   factor(PR1)12     factor(PR1)13     factor(PR1)24     factor(PR1)35  \n",
       "        0.031706          0.022803         -0.000615          0.030969  \n",
       "   factor(PR1)46     factor(PR1)47     factor(PR1)48     factor(PR1)59  \n",
       "        0.083703          0.012630          0.039404          0.044037  \n",
       "   factor(PR1)70     factor(PR1)88     factor(PR1)99    factor(NOC21)2  \n",
       "        0.156104          0.148408         -0.147334          0.108881  \n",
       "  factor(NOC21)3    factor(NOC21)4    factor(NOC21)5    factor(NOC21)6  \n",
       "        0.111035          0.070763          0.081189          0.091663  \n",
       "  factor(NOC21)7    factor(NOC21)8    factor(NOC21)9   factor(NOC21)10  \n",
       "        0.129012         -0.010711         -0.017095          0.155193  \n",
       " factor(NOC21)11   factor(NOC21)12   factor(NOC21)13   factor(NOC21)14  \n",
       "        0.174747          0.148355          0.232511          0.083203  \n",
       " factor(NOC21)15   factor(NOC21)16   factor(NOC21)17   factor(NOC21)18  \n",
       "        0.043189          0.177948          0.036068          0.062410  \n",
       " factor(NOC21)19   factor(NOC21)20   factor(NOC21)21   factor(NOC21)22  \n",
       "        0.117289          0.095221          0.099917          0.104161  \n",
       " factor(NOC21)23   factor(NOC21)24   factor(NOC21)25   factor(NOC21)26  \n",
       "        0.060265          0.196287          0.175191          0.112076  \n",
       " factor(NOC21)88   factor(NOC21)99  \n",
       "        0.162337                NA  \n"
      ]
     },
     "metadata": {},
     "output_type": "display_data"
    }
   ],
   "source": [
    "iv_model"
   ]
  },
  {
   "cell_type": "code",
   "execution_count": null,
   "id": "2111d23c-db89-4ce5-b1c8-a5dd20e9fb65",
   "metadata": {},
   "outputs": [],
   "source": []
  }
 ],
 "metadata": {
  "kernelspec": {
   "display_name": "R",
   "language": "R",
   "name": "ir"
  },
  "language_info": {
   "codemirror_mode": "r",
   "file_extension": ".r",
   "mimetype": "text/x-r-source",
   "name": "R",
   "pygments_lexer": "r",
   "version": "4.3.3"
  }
 },
 "nbformat": 4,
 "nbformat_minor": 5
}
